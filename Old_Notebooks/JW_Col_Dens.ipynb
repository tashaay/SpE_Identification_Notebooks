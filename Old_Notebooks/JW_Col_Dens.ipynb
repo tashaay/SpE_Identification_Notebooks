{
 "cells": [
  {
   "cell_type": "code",
   "execution_count": 5,
   "id": "1fd1d537-5221-43ab-a664-72ee1310d745",
   "metadata": {},
   "outputs": [],
   "source": [
    "import xarray as xr\n",
    "import numpy as np\n",
    "import cftime\n",
    "import nc_time_axis\n",
    "import pandas as pd\n",
    "import matplotlib.pyplot as plt \n",
    "from matplotlib import ticker, cm\n",
    "from cftime import datetime \n",
    "import matplotlib.colors as colors\n",
    "import math\n",
    "import random\n",
    "import matplotlib.cm as mcm\n",
    "jet = mcm.get_cmap('jet')\n",
    "import cartopy.crs as ccrs # CRS stands for \"Coordinate reference systems\" for map projection\n",
    "from cartopy.crs import PlateCarree\n",
    "import cartopy.feature as cfeature\n",
    "from cartopy.mpl.ticker import LongitudeFormatter, LatitudeFormatter\n",
    "from dateutil import tz\n",
    "import pytz\n",
    "%matplotlib inline \n",
    "\n",
    "#filename=\"Nc_Files/Jianfei_WACCMX_files/waccmx_Fe_Fep_Feb.nc\"\n",
    "#filename=\"Nc_Files/Jianfei_WACCMX_files/waccmx_Na_Nap_Feb.nc\"\n",
    "filename=\"Nc_Files/Jianfei_WACCMX_files/waccmx_Mg_Mgp_Feb.nc\"\n",
    "\n",
    "filename2=\"Nc_Files/Jianfei_WACCMX_files/waccmx_T_Z3_e_Feb.nc\"\n",
    "#filename3=\"Nc_Files/Jianfei_WACCMX_files/waccmx_winds_Feb.nc\"\n",
    "\n",
    "M = filename[-10:]\n",
    "Metal=M[0:2]\n",
    "#print(Metal)\n",
    "\n",
    "ds = xr.open_dataset(filename)\n",
    "ds2 = xr.open_dataset(filename2)\n",
    "\n",
    "#ds2\n",
    "#ds"
   ]
  },
  {
   "cell_type": "code",
   "execution_count": 6,
   "id": "949bda7a-7524-4d87-96db-98fedb5cadba",
   "metadata": {},
   "outputs": [],
   "source": [
    "time = ds.variables['time']\n",
    "times = xr.cftime_range(start=\"0001-02-01\", periods=672, freq=\"1H\", calendar=\"noleap\")\n",
    "times2 = ds[\"time\"].dt.strftime(\"%Y%m%d %H:%M\")\n",
    "times3 = ds[\"time\"].dt.strftime(\"%Y%m%d\")\n",
    "\n",
    "#times\n",
    "#times2\n",
    "#times3"
   ]
  },
  {
   "cell_type": "code",
   "execution_count": 7,
   "id": "302a6fcb-3487-4698-9e80-7f5ab92296c9",
   "metadata": {},
   "outputs": [],
   "source": [
    "lon = ds.variables['lon']\n",
    "lat = ds.variables['lat']\n",
    "lev = ds.variables['lev']\n",
    "\n",
    "#M = ds.variables[str(Metal)]\n",
    "#Mp = ds.variables[str(Metal)+'p']\n",
    "\n",
    "dst = ds.transpose(\"lev\", ...)\n",
    "Mt = dst.variables[str(Metal)]\n",
    "Mpt = dst.variables[str(Metal)+'p']\n"
   ]
  },
  {
   "cell_type": "code",
   "execution_count": 8,
   "id": "a7407910-efe3-4cb4-a34e-c599877efa83",
   "metadata": {},
   "outputs": [],
   "source": [
    "ds2t = ds2.transpose(\"lev\", ...)\n",
    "temp = ds2t.variables['T']\n",
    "elect = ds2t.variables['e']\n",
    "\n",
    "geopH = ds2t.variables['Z3'] / 1000 #m-> km\n",
    "Zavg = geopH.mean(('time','lat', 'lon'))"
   ]
  },
  {
   "cell_type": "code",
   "execution_count": 9,
   "id": "6a47b9dc-5b9f-4bec-bc37-251d358d1028",
   "metadata": {},
   "outputs": [],
   "source": [
    "Mtdens = ( Mt * 1e-6 * 100 * lev ) / (1.380503e-23 * temp)\n",
    "Mptdens = ( Mpt * 1e-6 * 100 * lev ) / (1.380503e-23 * temp)"
   ]
  },
  {
   "cell_type": "code",
   "execution_count": 10,
   "id": "cec38231-c2cd-4875-8784-0813fc087f3f",
   "metadata": {},
   "outputs": [],
   "source": [
    "#Mtdens2 = Mtdens / 1000 # convert to 10^3 cm-3\n",
    "#Mptdens2 = Mptdens / 1000 # convert to 10^3 cm-3"
   ]
  },
  {
   "cell_type": "code",
   "execution_count": 11,
   "id": "72b20735-8a64-4327-a190-231d12d9730b",
   "metadata": {},
   "outputs": [],
   "source": [
    "edens = ( elect * 1e-6 * 100 * lev ) / (1.380503e-23 * temp)"
   ]
  },
  {
   "cell_type": "code",
   "execution_count": null,
   "id": "95323e00-bb76-4a9b-9c77-35b656cb4721",
   "metadata": {},
   "outputs": [],
   "source": []
  },
  {
   "cell_type": "code",
   "execution_count": null,
   "id": "b58743a5-38ad-4d64-bb77-eb5ae1ae7de3",
   "metadata": {},
   "outputs": [],
   "source": []
  },
  {
   "cell_type": "code",
   "execution_count": null,
   "id": "28f448c4-b444-4283-93bc-c49311f837e7",
   "metadata": {},
   "outputs": [],
   "source": []
  },
  {
   "cell_type": "code",
   "execution_count": null,
   "id": "0fec6687-f04d-4cff-98b0-be2a0df508bf",
   "metadata": {},
   "outputs": [],
   "source": [
    "#Trying to calc height of each grid box (cm) in order to then multiply by density (cm-3) to calculate column density (cm-2)\n",
    "\n",
    "#dst lat: 96 lon: 144 lev: 126 ilev: 127 time: 672 nbnd: 2\n",
    "#geopH lev: 126 time: 672 lat: 96 lon: 144\n",
    "\n",
    "#for i in lev:\n",
    "#    for j in time:\n",
    "#        for k in lat:\n",
    "#            for l in lon:\n",
    "#                geopH_int = geopH[i+1,j,k,l] - geopH[i,j,k,l]\n",
    "\n",
    "\n",
    "intind_min = 0\n",
    "intind_max = 125\n",
    "intinds = np.arange(intind_min,intind_max)\n",
    "geopH_int = geopH\n",
    "#geopH_int #lev: 126 time: 672 lat: 96 lon: 144\n",
    "\n",
    "latinds = np.arange(0,96)\n",
    "loninds = np.arange(0,144)\n",
    "timeinds = np.arange(0,672)\n",
    "\n",
    "for i in intinds:\n",
    "    for j in timeinds:\n",
    "        for k in latinds:\n",
    "            for l in loninds:\n",
    "                geopH_int[i,j,k,l] = geopH[i,j,k,l] - geopH[i+1,j,k,l]\n",
    "\n",
    "    \n",
    "\n",
    "geopH_int[0,0,0,0] #0.00048828\n",
    "#geopH_int[-1,0,0,0] #2.9051678\n",
    "#geopH_int[-2,0,0,0] #-17.272299\n",
    "#geopH_int[-3,0,0,0] #60.200333\n",
    "#geopH_int #lev: 126 time: 672 lat: 96 lon: 144"
   ]
  },
  {
   "cell_type": "code",
   "execution_count": null,
   "id": "8e4ee9d6-caa1-4fd9-ac7c-1cc0e0f5e5cd",
   "metadata": {},
   "outputs": [],
   "source": []
  },
  {
   "cell_type": "code",
   "execution_count": null,
   "id": "b3b4d7e2-f83b-4c9d-8ccb-fe7354127cab",
   "metadata": {},
   "outputs": [],
   "source": []
  },
  {
   "cell_type": "code",
   "execution_count": null,
   "id": "a1311741-17a5-4e7e-8cb8-9714eb8a7283",
   "metadata": {},
   "outputs": [],
   "source": []
  },
  {
   "cell_type": "code",
   "execution_count": null,
   "id": "51bf918f-0e51-42b9-9c23-c29c104fe303",
   "metadata": {},
   "outputs": [],
   "source": []
  },
  {
   "cell_type": "code",
   "execution_count": null,
   "id": "34421a4a-3554-461d-a803-813273f3b392",
   "metadata": {},
   "outputs": [],
   "source": []
  },
  {
   "cell_type": "code",
   "execution_count": null,
   "id": "c276b809-4e1c-48f1-b947-6092b76e8d01",
   "metadata": {},
   "outputs": [],
   "source": []
  },
  {
   "cell_type": "code",
   "execution_count": null,
   "id": "5732426f-dbb4-4c9e-9b6c-d53ab95cedd7",
   "metadata": {},
   "outputs": [],
   "source": []
  },
  {
   "cell_type": "code",
   "execution_count": null,
   "id": "3a2020d9-76d9-4a6a-9242-06e1380eff84",
   "metadata": {},
   "outputs": [],
   "source": []
  },
  {
   "cell_type": "code",
   "execution_count": null,
   "id": "8d07fb44-a191-4801-ba95-a692e81ff4bf",
   "metadata": {},
   "outputs": [],
   "source": []
  },
  {
   "cell_type": "code",
   "execution_count": null,
   "id": "ebad5970-5bdc-4d4a-b59d-099fb95677a8",
   "metadata": {},
   "outputs": [],
   "source": []
  },
  {
   "cell_type": "code",
   "execution_count": null,
   "id": "ff5071c7-f5bb-4d1e-a697-d50357c841d5",
   "metadata": {},
   "outputs": [],
   "source": []
  },
  {
   "cell_type": "code",
   "execution_count": null,
   "id": "656da19b-2ccf-406f-b43c-2110517cf5f2",
   "metadata": {},
   "outputs": [],
   "source": [
    "##### levii=np.linspace(0,126,127)\n",
    "\n",
    "#create an xarray object with dims lev:125, time:672, lat:96, lon:144\n",
    "alt_i = np.linspace(0,126,127*672*96*144).reshape((127*672*96*144))\n",
    "dataset = xr.dataset(\n",
    "    {\n",
    "        'alt_i':(['levi', 'time', 'lat', 'lon'], alt_i)\n",
    "    },\n",
    "    coords=={\n",
    "        'levi':xr.dataarray(\n",
    "            levii,\n",
    "            name='levi',\n",
    "            dims=['levi'],\n",
    "        ),\n",
    "        'time':xr.dataarray(\n",
    "            time,\n",
    "            name='time',\n",
    "            dims=['levi'],\n",
    "        ),\n",
    "        'lat':xr.dataarray(\n",
    "            lat,\n",
    "            name='levi',\n",
    "            dims=['levi'],\n",
    "            attrs={'long_name':'latitude','units':'degrees_north'}\n",
    "        ),\n",
    "        'lon':xr.dataarray(\n",
    "            lon,\n",
    "            name='levi',\n",
    "            dims=['levi'],\n",
    "            attrs={'long_name':'longitude','units':'degrees_east'}\n",
    "        )\n",
    "    }\n",
    ")\n",
    "\n",
    "\n",
    "dataset\n",
    "\n",
    "#print(np.linspace(0,126,127))\n",
    "#alt_i\n",
    "#geopH\n",
    "#\n",
    "#For i in range(geopH.values):\n",
    "#    print(coor)"
   ]
  },
  {
   "cell_type": "code",
   "execution_count": null,
   "id": "0bf0084b-8772-4804-8324-9917e13ab196",
   "metadata": {},
   "outputs": [],
   "source": [
    "\n",
    "Mt.sel(lev=10^-3, method='nearest')"
   ]
  },
  {
   "cell_type": "code",
   "execution_count": null,
   "id": "d7d8745c-976b-4172-bbda-69420404df35",
   "metadata": {},
   "outputs": [],
   "source": []
  },
  {
   "cell_type": "code",
   "execution_count": null,
   "id": "accdaa8c-17f1-422f-a8a3-420fbe622fa0",
   "metadata": {},
   "outputs": [],
   "source": []
  }
 ],
 "metadata": {
  "kernelspec": {
   "display_name": "Python 3 (ipykernel)",
   "language": "python",
   "name": "python3"
  },
  "language_info": {
   "codemirror_mode": {
    "name": "ipython",
    "version": 3
   },
   "file_extension": ".py",
   "mimetype": "text/x-python",
   "name": "python",
   "nbconvert_exporter": "python",
   "pygments_lexer": "ipython3",
   "version": "3.9.10"
  }
 },
 "nbformat": 4,
 "nbformat_minor": 5
}
