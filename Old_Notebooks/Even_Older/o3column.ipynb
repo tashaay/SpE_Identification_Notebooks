{
 "cells": [
  {
   "cell_type": "code",
   "execution_count": null,
   "metadata": {},
   "outputs": [],
   "source": [
    "#Dan's code for Col dens, unedited/ not tested"
   ]
  },
  {
   "cell_type": "code",
   "execution_count": 7,
   "metadata": {},
   "outputs": [],
   "source": [
    "import matplotlib.pyplot as plt\n",
    "from matplotlib import ticker\n",
    "import numpy as np\n",
    "import xarray as xr"
   ]
  },
  {
   "cell_type": "code",
   "execution_count": 2,
   "metadata": {},
   "outputs": [],
   "source": [
    "def o3_column(waccm_file):\n",
    "    \n",
    "    print(\"opening : \", waccm_file)\n",
    "    ds = xr.open_dataset(waccm_file, decode_times=False )\n",
    "    \n",
    "    # define some constants need for the column integration\n",
    "    kboltz = 1.380044E-16   # boltzman's constant (erg/K)\n",
    "    R = 2.8704e6            # gas constant (erg/g/K)\n",
    "    g = 980.616             # grav acceleration (cm/sec2)\n",
    "    pa2dyn = 10.            # Pascals to dyn/cm2\n",
    "    cm2todu = 1./2.6867e16  # convert colunm density / cm^2 to Dobson units\n",
    "\n",
    "    ds = xr.open_dataset(waccm_file)\n",
    "    plev = ds['lev']\n",
    "    \n",
    "    #calcualte column integrals \n",
    "    o3 = ds['O3'].values\n",
    "    \n",
    "    # variables to calcualate hybrid pressure on model interfaces\n",
    "    ps = ds['PS'].values # surface pressure\n",
    "    p0 = ds['P0'].values\n",
    "    hyai = ds['hyai'].values\n",
    "    hybi = ds['hybi'].values\n",
    "    \n",
    "    col = np.ndarray(ps.shape, np.float32)\n",
    "    dp = np.ndarray(o3.shape, np.float32)\n",
    "    \n",
    "    nt = ds['time'].size\n",
    "    ny = ds['lat'].size\n",
    "    nz = ds['lev'].size\n",
    "    \n",
    "    press = np.ndarray(nz, np.float32)\n",
    "    for it in range(nt):\n",
    "        for iy in range(ny):\n",
    "            press = hyai * p0 + hybi * ps[it,iy]\n",
    "            for iz in range(nz):\n",
    "                 dp[it,iz,iy] = (press[iz+1]-press[iz])\n",
    "\n",
    "    o3 = o3 * dp * R / (kboltz * g)\n",
    "\n",
    "    o3col = np.sum(o3, axis = 1) *  pa2dyn * cm2todu\n",
    "    \n",
    "    #calculate global mean time series\n",
    "\n",
    "    lat = ds['lat'].values\n",
    "    time = ds['time'].values\n",
    "    wts = np.cos(np.pi*lat/180.)\n",
    "    wts_total = np.sum(wts)\n",
    "\n",
    "    gm_o3col = o3col@wts/wts_total\n",
    "\n",
    "    #create output Dataset\n",
    "    \n",
    "    ds2 = xr.Dataset({'o3_col': (['lat', 'time'], np.transpose(o3col)),\n",
    "                      'gm_o3col': (['time'], gm_o3col),},\n",
    "                     coords={'lat': (['lat'], lat),\n",
    "                             'time': (['time'], time)})\n",
    "\n",
    "    ds3 = xr.merge([ds2, ds['time_bnds'], ds['date'], ds['datesec']]) \n",
    "    ds3.lat.attrs[\"units\"] = \"degrees_north\"\n",
    "    ds3.o3_col.attrs[\"units\"] = \"DU\"\n",
    "    ds3.gm_o3col.attrs[\"units\"] = \"DU\"\n",
    "\n",
    "    return ds3"
   ]
  },
  {
   "cell_type": "code",
   "execution_count": 3,
   "metadata": {},
   "outputs": [
    {
     "name": "stdout",
     "output_type": "stream",
     "text": [
      "opening :  /home/home01/phydrm/python/example_data/b.e21.BWma1850.f19_g17.baseline.fin.001.cam.h0zm.0010.nc\n"
     ]
    }
   ],
   "source": [
    "data_dir = '/home/home01/phydrm/python/example_data/'\n",
    "waccm_file = 'b.e21.BWma1850.f19_g17.baseline.fin.001.cam.h0zm.0010.nc'\n",
    "\n",
    "dso3 = o3_column(data_dir+waccm_file)\n",
    "\n",
    "outfile = \"o3column.nc\"\n",
    "dso3.to_netcdf(outfile)"
   ]
  },
  {
   "cell_type": "code",
   "execution_count": 9,
   "metadata": {},
   "outputs": [
    {
     "name": "stdout",
     "output_type": "stream",
     "text": [
      "[ 1  2  3  4  5  6  7  8  9 10 11 12]\n"
     ]
    },
    {
     "data": {
      "image/png": "[encoded data removed]",
      "text/plain": [
       "<Figure size 720x432 with 2 Axes>"
      ]
     },
     "metadata": {
      "needs_background": "light"
     },
     "output_type": "display_data"
    }
   ],
   "source": [
    "month = dso3['time_bnds'].mean(dim='nbnd').dt.month.values\n",
    "lat = dso3['lat'].values\n",
    "du = dso3['o3_col']\n",
    "print(month)\n",
    "\n",
    "plt.figure(figsize=(10,6))\n",
    "plt.imshow(du, aspect='auto', origin='lower', \n",
    "           interpolation = 'none', extent = [0.5,12.5,-90,90])\n",
    "\n",
    "cb = plt.colorbar()\n",
    "tick_locator = ticker.MaxNLocator(nbins=12)\n",
    "cb.locator = tick_locator\n",
    "cb.update_ticks()\n",
    "\n",
    "ax = plt.gca()\n",
    "ax.set_xlabel('month')\n",
    "ax.set_ylabel('Latitude')\n",
    "ax = plt.gca()\n",
    "ax.set_xticks(month)\n",
    "\n",
    "plt.show()"
   ]
  }
 ],
 "metadata": {
  "kernelspec": {
   "display_name": "Python 3 (ipykernel)",
   "language": "python",
   "name": "python3"
  },
  "language_info": {
   "codemirror_mode": {
    "name": "ipython",
    "version": 3
   },
   "file_extension": ".py",
   "mimetype": "text/x-python",
   "name": "python",
   "nbconvert_exporter": "python",
   "pygments_lexer": "ipython3",
   "version": "3.9.10"
  }
 },
 "nbformat": 4,
 "nbformat_minor": 4
}
