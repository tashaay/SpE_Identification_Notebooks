{
 "cells": [
  {
   "cell_type": "code",
   "execution_count": 1,
   "id": "aecec9db-59cf-418a-bb7e-a9db49fa3900",
   "metadata": {},
   "outputs": [],
   "source": [
    "#Change current working directory for python notebooks\n",
    "# This got changed once somehow which caused issues\n",
    "# The below directories are no longer correct, but left methods/code as an e.g. if it ever happened again"
   ]
  },
  {
   "cell_type": "code",
   "execution_count": 14,
   "id": "d9271783-c622-4e48-9df3-be9c6f1a3705",
   "metadata": {
    "tags": []
   },
   "outputs": [
    {
     "name": "stdout",
     "output_type": "stream",
     "text": [
      "Current Working Directory: /localhome/sestay/jupyter/Nc_Files/s4max\n"
     ]
    }
   ],
   "source": [
    "import os\n",
    "\n",
    "cwd = os.getcwd()\n",
    "\n",
    "print(\"Current Working Directory:\", cwd)\n"
   ]
  },
  {
   "cell_type": "code",
   "execution_count": 15,
   "id": "ee27a4dd-0dfc-46d3-b89a-a7fe321d7d91",
   "metadata": {
    "tags": []
   },
   "outputs": [],
   "source": [
    "new_directory = '/localhome/sestay/jupyter'\n",
    "os.chdir(new_directory)"
   ]
  },
  {
   "cell_type": "code",
   "execution_count": 16,
   "id": "ee332f06-31f4-4d72-a49c-95285af7611c",
   "metadata": {
    "tags": []
   },
   "outputs": [
    {
     "name": "stdout",
     "output_type": "stream",
     "text": [
      "Current Working Directory: /localhome/sestay/jupyter\n"
     ]
    }
   ],
   "source": [
    "cwd = os.getcwd()\n",
    "print(\"Current Working Directory:\", cwd)\n"
   ]
  },
  {
   "cell_type": "code",
   "execution_count": null,
   "id": "1cc4b774-f04d-4898-a76a-d3c76f764f64",
   "metadata": {},
   "outputs": [],
   "source": []
  }
 ],
 "metadata": {
  "kernelspec": {
   "display_name": "Python 3 (ipykernel)",
   "language": "python",
   "name": "python3"
  },
  "language_info": {
   "codemirror_mode": {
    "name": "ipython",
    "version": 3
   },
   "file_extension": ".py",
   "mimetype": "text/x-python",
   "name": "python",
   "nbconvert_exporter": "python",
   "pygments_lexer": "ipython3",
   "version": "3.11.5"
  }
 },
 "nbformat": 4,
 "nbformat_minor": 5
}
