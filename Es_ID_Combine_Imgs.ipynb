{
 "cells": [
  {
   "cell_type": "code",
   "execution_count": 5,
   "id": "6263c032-ceb5-4c06-a082-7f9b3a095eb2",
   "metadata": {
    "tags": []
   },
   "outputs": [],
   "source": [
    "# Combining images for different criteria sets from Figures/Wuhu_IonTr_run/Es_ID (plotting code in Individual_Es_Plot.ipynb)\n",
    "# Plots of individual Es events for criteria A, H, I and M"
   ]
  },
  {
   "cell_type": "markdown",
   "id": "dc8bf531-b78e-420f-a57d-9ef1d3713102",
   "metadata": {
    "tags": []
   },
   "source": [
    "# Combine Es_Layer images individually for all criteria and locations"
   ]
  },
  {
   "cell_type": "code",
   "execution_count": 21,
   "id": "39d5c220-bb92-4747-a1da-3f5e780637a7",
   "metadata": {
    "tags": []
   },
   "outputs": [
    {
     "name": "stdout",
     "output_type": "stream",
     "text": [
      "Combined images saved successfully.\n"
     ]
    }
   ],
   "source": [
    "# CRITERIA A, G, I and N\n",
    "\n",
    "from PIL import Image\n",
    "\n",
    "img1_Mp = Image.open('Figures/Wuhu_IonTr_run/Es_ID/1sigma_3xMpza_1xpeak/Es_Layer_lat_12.5_lon_307.5_2023-06-01_04:00:00LT.png')\n",
    "img1A = Image.open('Figures/Wuhu_IonTr_run/Es_ID/1sigma_3xMpza_1xpeak/Es_Layer_sel_lat_12.5_lon_307.5_2023-06-01_04:00:00LT.png')\n",
    "img1G = Image.open('Figures/Wuhu_IonTr_run/Es_ID/0.5sigma_1xMpza_2xpeak/Es_Layer_sel_lat_12.5_lon_307.5_2023-06-01_04:00:00LT.png')\n",
    "img1I = Image.open('Figures/Wuhu_IonTr_run/Es_ID/0.25sigma_2xMpza_1xpeak/Es_Layer_sel_lat_12.5_lon_307.5_2023-06-01_04:00:00LT.png')\n",
    "img1N = Image.open('Figures/Wuhu_IonTr_run/Es_ID/0sigma_0.5xMpza_0.5xpeak/Es_Layer_sel_lat_12.5_lon_307.5_2023-06-01_04:00:00LT.png')\n",
    "\n",
    "img2_Mp = Image.open('Figures/Wuhu_IonTr_run/Es_ID/1sigma_3xMpza_1xpeak/Es_Layer_lat_48.5_lon_45_2023-06-01_03:00:00LT.png')\n",
    "img2A = Image.open('Figures/Wuhu_IonTr_run/Es_ID/1sigma_3xMpza_1xpeak/Es_Layer_sel_lat_48.5_lon_45_2023-06-01_03:00:00LT.png')\n",
    "img2G = Image.open('Figures/Wuhu_IonTr_run/Es_ID/0.5sigma_1xMpza_2xpeak/Es_Layer_sel_lat_48.5_lon_45_2023-06-01_03:00:00LT.png')\n",
    "img2I = Image.open('Figures/Wuhu_IonTr_run/Es_ID/0.25sigma_2xMpza_1xpeak/Es_Layer_sel_lat_48.5_lon_45_2023-06-01_03:00:00LT.png')\n",
    "img2N = Image.open('Figures/Wuhu_IonTr_run/Es_ID/0sigma_0.5xMpza_0.5xpeak/Es_Layer_sel_lat_48.5_lon_45_2023-06-01_03:00:00LT.png')\n",
    "\n",
    "img3_Mp = Image.open('Figures/Wuhu_IonTr_run/Es_ID/1sigma_3xMpza_1xpeak/Es_Layer_lat_-77.5_lon_150_2023-06-01_08:00:00LT.png')\n",
    "img3A = Image.open('Figures/Wuhu_IonTr_run/Es_ID/1sigma_3xMpza_1xpeak/Es_Layer_sel_lat_-77.5_lon_150_2023-06-01_08:00:00LT.png')\n",
    "img3G = Image.open('Figures/Wuhu_IonTr_run/Es_ID/0.5sigma_1xMpza_2xpeak/Es_Layer_sel_lat_-77.5_lon_150_2023-06-01_08:00:00LT.png')\n",
    "img3I = Image.open('Figures/Wuhu_IonTr_run/Es_ID/0.25sigma_2xMpza_1xpeak/Es_Layer_sel_lat_-77.5_lon_150_2023-06-01_08:00:00LT.png')\n",
    "img3N = Image.open('Figures/Wuhu_IonTr_run/Es_ID/0sigma_0.5xMpza_0.5xpeak/Es_Layer_sel_lat_-77.5_lon_150_2023-06-01_08:00:00LT.png')\n",
    "\n",
    "width1, height1 = img1_Mp.size\n",
    "\n",
    "max_width = width1\n",
    "total_height = height1 * 5  \n",
    "combined_img = Image.new('RGB', (max_width * 3, total_height))  # 3 columns\n",
    "\n",
    "# Column 1\n",
    "combined_img.paste(img1_Mp, (0, 0))\n",
    "combined_img.paste(img1A, (0, height1))\n",
    "combined_img.paste(img1G, (0, height1 * 2))\n",
    "combined_img.paste(img1I, (0, height1 * 3))\n",
    "combined_img.paste(img1N, (0, height1 * 4))\n",
    "\n",
    "# Column 2\n",
    "combined_img.paste(img2_Mp, (max_width, 0))\n",
    "combined_img.paste(img2A, (max_width, height1))\n",
    "combined_img.paste(img2G, (max_width, height1 * 2))\n",
    "combined_img.paste(img2I, (max_width, height1 * 3))\n",
    "combined_img.paste(img2N, (max_width, height1 * 4))\n",
    "\n",
    "# Column 3\n",
    "combined_img.paste(img3_Mp, (max_width * 2, 0))\n",
    "combined_img.paste(img3A, (max_width * 2, height1))\n",
    "combined_img.paste(img3G, (max_width * 2, height1 * 2))\n",
    "combined_img.paste(img3I, (max_width * 2, height1 * 3))\n",
    "combined_img.paste(img3N, (max_width * 2, height1 * 4))\n",
    "\n",
    "combined_img.save('Figures/Wuhu_IonTr_run/Es_ID/Es_Layer_Locs_CriteriaAGIN.png')\n",
    "\n",
    "print('Combined images saved successfully.')\n"
   ]
  },
  {
   "cell_type": "code",
   "execution_count": 2,
   "id": "c14ba2aa-3cdb-40b4-bc60-54f27eeae757",
   "metadata": {},
   "outputs": [
    {
     "name": "stdout",
     "output_type": "stream",
     "text": [
      "Combined images saved successfully.\n"
     ]
    }
   ],
   "source": [
    "from PIL import Image\n",
    "\n",
    "\n",
    "img1_Mp = Image.open('Figures/Wuhu_IonTr_run/Es_ID/1sigma_3xMpza_1xpeak/Es_Layer_lat_12.5_lon_307.5_2023-06-01_04:00:00LT.png')\n",
    "img2_Mp = Image.open('Figures/Wuhu_IonTr_run/Es_ID/1sigma_3xMpza_1xpeak/Es_Layer_lat_48.5_lon_45_2023-06-01_03:00:00LT.png')\n",
    "img3_Mp = Image.open('Figures/Wuhu_IonTr_run/Es_ID/1sigma_3xMpza_1xpeak/Es_Layer_lat_-77.5_lon_150_2023-06-01_08:00:00LT.png')\n",
    "\n",
    "img1I = Image.open('Figures/Wuhu_IonTr_run/Es_ID/0.25sigma_2xMpza_1xpeak/Es_Layer_sel_lat_12.5_lon_307.5_2023-06-01_04:00:00LT.png')\n",
    "img2I = Image.open('Figures/Wuhu_IonTr_run/Es_ID/0.25sigma_2xMpza_1xpeak/Es_Layer_sel_lat_48.5_lon_45_2023-06-01_03:00:00LT.png')\n",
    "img3I = Image.open('Figures/Wuhu_IonTr_run/Es_ID/0.25sigma_2xMpza_1xpeak/Es_Layer_sel_lat_-77.5_lon_150_2023-06-01_08:00:00LT.png')\n",
    "\n",
    "width1_Mp, height1_Mp = img1_Mp.size\n",
    "width2_Mp, height2_Mp = img2_Mp.size\n",
    "width3_Mp, height3_Mp = img3_Mp.size\n",
    "\n",
    "width1I, height1I = img1I.size\n",
    "width2I, height2I = img2I.size\n",
    "width3I, height3I = img3I.size\n",
    "\n",
    "total_height = height1_Mp + height2_Mp + height3_Mp\n",
    "max_width = max(width1_Mp + width1I, width2_Mp + width2I, width3_Mp + width3I)\n",
    "\n",
    "combined_image = Image.new('RGB', (max_width, total_height))\n",
    "\n",
    "combined_image.paste(img1_Mp, (0, 0))\n",
    "combined_image.paste(img1I, (width1_Mp, 0))\n",
    "combined_image.paste(img2_Mp, (0, height1_Mp))\n",
    "combined_image.paste(img2I, (width2_Mp, height1_Mp))\n",
    "combined_image.paste(img3_Mp, (0, height1_Mp + height2_Mp))\n",
    "combined_image.paste(img3I, (width3_Mp, height1_Mp + height2_Mp))\n",
    "\n",
    "combined_image.save('Figures/Wuhu_IonTr_run/Es_ID/Es_Layer_Locs_CriteriaI.png')\n",
    "\n",
    "print('Combined images saved successfully.')\n"
   ]
  },
  {
   "cell_type": "markdown",
   "id": "374f6a28-594f-4bd0-aca6-574e956b620b",
   "metadata": {
    "tags": []
   },
   "source": [
    "# Combine Es_Layer_IDcomp images (M+ on left, M+ where Es layer identified on the right)"
   ]
  },
  {
   "cell_type": "code",
   "execution_count": 9,
   "id": "44ae40e9-0526-494c-951a-a9585efc873f",
   "metadata": {
    "tags": []
   },
   "outputs": [],
   "source": [
    "from PIL import Image\n",
    "\n",
    "img1 = Image.open('Figures/Wuhu_IonTr_run/Es_ID/1sigma_3xMpza_1xpeak/Es_Layer_IDcomp_lat_-77.5_lon_150_2023-06-01_04:00:00LT.png')      # A\n",
    "img2 = Image.open('Figures/Wuhu_IonTr_run/Es_ID/0.5sigma_1xMpza_1xpeak/Es_Layer_IDcomp_lat_-77.5_lon_150_2023-06-01_04:00:00LT.png')    # H\n",
    "img3 = Image.open('Figures/Wuhu_IonTr_run/Es_ID/0.25sigma_2xMpza_1xpeak/Es_Layer_IDcomp_lat_-77.5_lon_150_2023-06-01_04:00:00LT.png')   # I\n",
    "img4 = Image.open('Figures/Wuhu_IonTr_run/Es_ID/0sigma_0.5xMpza_0.5xpeak/Es_Layer_IDcomp_lat_-77.5_lon_150_2023-06-01_04:00:00LT.png')  # N\n",
    "\n",
    "width1, height1 = img1.size\n",
    "width2, height2 = img2.size\n",
    "width3, height3 = img3.size\n",
    "width4, height4 = img4.size\n",
    "\n",
    "max_width = max(width1, width2, width3, width4)\n",
    "total_height = height1 + height2 + height3 + height4\n",
    "\n",
    "combined_img = Image.new('RGB', (max_width, total_height))\n",
    "\n",
    "combined_img.paste(img1, (0, 0))\n",
    "combined_img.paste(img2, (0, height1))\n",
    "combined_img.paste(img3, (0, height1 + height2))\n",
    "combined_img.paste(img4, (0, height1 + height2 + height3))\n",
    "\n",
    "# Save the combined image\n",
    "combined_img.save('Figures/Wuhu_IonTr_run/Es_ID/CriteriaAHIN_lat_-77.5_lon_150_2023-06-01_04:00:00LT.png')"
   ]
  },
  {
   "cell_type": "code",
   "execution_count": 10,
   "id": "e3b41acf-17a1-403a-9732-1d7c04227596",
   "metadata": {
    "tags": []
   },
   "outputs": [],
   "source": [
    "from PIL import Image\n",
    "\n",
    "# Load the images\n",
    "img1 = Image.open('Figures/Wuhu_IonTr_run/Es_ID/1sigma_3xMpza_1xpeak/Es_Layer_IDcomp_lat_12.5_lon_307.5_2023-06-01_04:00:00LT.png')      # A\n",
    "img2 = Image.open('Figures/Wuhu_IonTr_run/Es_ID/0.5sigma_1xMpza_1xpeak/Es_Layer_IDcomp_lat_12.5_lon_307.5_2023-06-01_04:00:00LT.png')    # H\n",
    "img3 = Image.open('Figures/Wuhu_IonTr_run/Es_ID/0.25sigma_2xMpza_1xpeak/Es_Layer_IDcomp_lat_12.5_lon_307.5_2023-06-01_04:00:00LT.png')   # I\n",
    "img4 = Image.open('Figures/Wuhu_IonTr_run/Es_ID/0sigma_0.5xMpza_0.5xpeak/Es_Layer_IDcomp_lat_12.5_lon_307.5_2023-06-01_04:00:00LT.png')  # N\n",
    "\n",
    "width1, height1 = img1.size\n",
    "width2, height2 = img2.size\n",
    "width3, height3 = img3.size\n",
    "width4, height4 = img4.size\n",
    "\n",
    "max_width = max(width1, width2, width3, width4)\n",
    "total_height = height1 + height2 + height3 + height4\n",
    "\n",
    "combined_img = Image.new('RGB', (max_width, total_height))\n",
    "\n",
    "combined_img.paste(img1, (0, 0))\n",
    "combined_img.paste(img2, (0, height1))\n",
    "combined_img.paste(img3, (0, height1 + height2))\n",
    "combined_img.paste(img4, (0, height1 + height2 + height3))\n",
    "\n",
    "combined_img.save('Figures/Wuhu_IonTr_run/Es_ID/CriteriaAHIN_lat_12.5_lon_307.5_2023-06-01_04:00:00LT.png')"
   ]
  },
  {
   "cell_type": "code",
   "execution_count": 11,
   "id": "9f590fc1-9cd7-4d3d-bbfc-87ad298b2d61",
   "metadata": {
    "tags": []
   },
   "outputs": [],
   "source": [
    "from PIL import Image\n",
    "\n",
    "# Load the images\n",
    "img1 = Image.open('Figures/Wuhu_IonTr_run/Es_ID/1sigma_3xMpza_1xpeak/Es_Layer_IDcomp_lat_48.5_lon_45_2023-06-01_04:00:00LT.png')      # A\n",
    "img2 = Image.open('Figures/Wuhu_IonTr_run/Es_ID/0.5sigma_1xMpza_1xpeak/Es_Layer_IDcomp_lat_48.5_lon_45_2023-06-01_04:00:00LT.png')    # H\n",
    "img3 = Image.open('Figures/Wuhu_IonTr_run/Es_ID/0.25sigma_2xMpza_1xpeak/Es_Layer_IDcomp_lat_48.5_lon_45_2023-06-01_04:00:00LT.png')   # I\n",
    "img4 = Image.open('Figures/Wuhu_IonTr_run/Es_ID/0sigma_0.5xMpza_0.5xpeak/Es_Layer_IDcomp_lat_48.5_lon_45_2023-06-01_04:00:00LT.png')  # N\n",
    "\n",
    "width1, height1 = img1.size\n",
    "width2, height2 = img2.size\n",
    "width3, height3 = img3.size\n",
    "width4, height4 = img4.size\n",
    "\n",
    "max_width = max(width1, width2, width3, width4)\n",
    "total_height = height1 + height2 + height3 + height4\n",
    "\n",
    "combined_img = Image.new('RGB', (max_width, total_height))\n",
    "\n",
    "combined_img.paste(img1, (0, 0))\n",
    "combined_img.paste(img2, (0, height1))\n",
    "combined_img.paste(img3, (0, height1 + height2))\n",
    "combined_img.paste(img4, (0, height1 + height2 + height3))\n",
    "\n",
    "combined_img.save('Figures/Wuhu_IonTr_run/Es_ID/CriteriaAHIN_lat_48.5_lon_45_2023-06-01_04:00:00LT.png')"
   ]
  },
  {
   "cell_type": "code",
   "execution_count": null,
   "id": "d9283a6a-3ba7-438f-a041-c2e2c1c56a1c",
   "metadata": {},
   "outputs": [],
   "source": []
  }
 ],
 "metadata": {
  "kernelspec": {
   "display_name": "Python 3 (ipykernel)",
   "language": "python",
   "name": "python3"
  },
  "language_info": {
   "codemirror_mode": {
    "name": "ipython",
    "version": 3
   },
   "file_extension": ".py",
   "mimetype": "text/x-python",
   "name": "python",
   "nbconvert_exporter": "python",
   "pygments_lexer": "ipython3",
   "version": "3.11.5"
  }
 },
 "nbformat": 4,
 "nbformat_minor": 5
}
