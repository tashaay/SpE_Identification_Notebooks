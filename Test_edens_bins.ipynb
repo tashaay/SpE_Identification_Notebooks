{
 "cells": [
  {
   "cell_type": "code",
   "execution_count": 1,
   "id": "ceb621a5-4acb-443e-b8a4-0137b6af98e5",
   "metadata": {
    "tags": []
   },
   "outputs": [],
   "source": [
    "# Calculations to create a histogram of all the e- densities that are defined as SpE layers in the algorithm\n",
    "# Used to identify the lower limit of e densities that cause SpEs\n",
    "# Also work out the critical frequencies that cause layers"
   ]
  },
  {
   "cell_type": "code",
   "execution_count": 7,
   "id": "1203a178-6ba3-4455-a83b-009b52cff25c",
   "metadata": {},
   "outputs": [
    {
     "name": "stderr",
     "output_type": "stream",
     "text": [
      "/tmp/ipykernel_3288788/1870643686.py:17: MatplotlibDeprecationWarning: The get_cmap function was deprecated in Matplotlib 3.7 and will be removed two minor releases later. Use ``matplotlib.colormaps[name]`` or ``matplotlib.colormaps.get_cmap(obj)`` instead.\n",
      "  jet = mcm.get_cmap('jet') if isinstance(mcm.get_cmap('jet'), str) else mcm.get_cmap('jet')\n"
     ]
    }
   ],
   "source": [
    "import xarray as xr\n",
    "import numpy as np\n",
    "import cftime\n",
    "import nc_time_axis\n",
    "import pandas as pd\n",
    "import matplotlib.pyplot as plt \n",
    "from matplotlib import ticker, cm\n",
    "#from cftime import datetime \n",
    "from datetime import datetime, timedelta\n",
    "#import datetime as dt\n",
    "import matplotlib.colors as colors\n",
    "import math\n",
    "import random\n",
    "import matplotlib.cm as mcm\n",
    "from matplotlib.ticker import MaxNLocator\n",
    "#jet = mcm.get_cmap('jet')\n",
    "jet = mcm.get_cmap('jet') if isinstance(mcm.get_cmap('jet'), str) else mcm.get_cmap('jet')\n",
    "import netCDF4 as nc\n",
    "import sys\n",
    "import os\n",
    "import psutil\n",
    "import netCDF4 as nc\n",
    "import cartopy.crs as ccrs # CRS stands for \"Coordinate reference systems\" for map projection\n",
    "from cartopy.crs import PlateCarree\n",
    "import cartopy.feature as cfeature\n",
    "from cartopy.mpl.ticker import LongitudeFormatter, LatitudeFormatter\n",
    "from dateutil import tz\n",
    "import pytz\n",
    "import time\n",
    "from time import process_time\n",
    "from tqdm import tqdm\n",
    "from dask.distributed import LocalCluster, Client\n",
    "import dask.array as da\n",
    "import dask.dataframe as dd\n",
    "import dask\n",
    "from dask import delayed\n",
    "from dask.diagnostics import ProgressBar  # Import the ProgressBar class\n",
    "import calendar\n",
    "import glob\n",
    "%matplotlib inline \n",
    "#import line_profiler\n",
    "#%load_ext line_profiler"
   ]
  },
  {
   "cell_type": "code",
   "execution_count": null,
   "id": "9b40fea3-1917-4608-9931-8aca6f9b2662",
   "metadata": {},
   "outputs": [],
   "source": []
  },
  {
   "cell_type": "markdown",
   "id": "8e6c3e60-326d-4e28-a279-2a95919e5dc0",
   "metadata": {
    "jp-MarkdownHeadingCollapsed": true,
    "tags": []
   },
   "source": [
    "# Mptdens Min & Max Values"
   ]
  },
  {
   "cell_type": "code",
   "execution_count": null,
   "id": "c2a1de1f-64a8-4d38-97df-2a0d0ccc88b1",
   "metadata": {},
   "outputs": [],
   "source": [
    "# to get rough boundaries for the histogram"
   ]
  },
  {
   "cell_type": "code",
   "execution_count": 2,
   "id": "723dbf71-c5f0-4cda-b4ed-b0fafbe2fcd5",
   "metadata": {},
   "outputs": [],
   "source": [
    "fp1 = 'Nc_Files/ACP_CESM213_FX2000_f19_f19_mg16_Na_Fe_Mg_iontransport/ACP_CESM213_FX2000_f19_f19_mg16_Na_Fe_Mg_iontransport.cam.h2.0001-*.nc'\n",
    "ds = xr.open_mfdataset(fp1)\n",
    "#ds\n",
    "\n",
    "\n",
    "\n",
    "timee = ds.variables['time']\n",
    "\n",
    "lon = ds.variables['lon']\n",
    "lat = ds.variables['lat']\n",
    "lev = ds.variables['lev']\n",
    "dst = ds.transpose(\"lev\", ...)\n",
    "#geopH = dst.variables['Z3'] / 1000 #m-> km    #(126, 744, 96, 144)        #Mpt = dst.variables['Fep'] \n",
    "\n",
    "temp = dst.variables['T']\n",
    "\n",
    "Fept = dst.variables['Fep']\n",
    "Mgpt = dst.variables['Mgp']\n",
    "Napt = dst.variables['Nap']\n",
    "\n",
    "\n",
    "lev_sl_idx_min = 41      \n",
    "lev_sl_idx_max = 60 \n",
    "\n",
    "lev_sl = lev[lev_sl_idx_min:lev_sl_idx_max+1]\n",
    "\n",
    "tempe = temp[lev_sl_idx_min:lev_sl_idx_max+1,:,:,:]\n",
    "\n",
    "Fep_t = Fept[lev_sl_idx_min:lev_sl_idx_max+1,:,:,:]\n",
    "Mgp_t = Mgpt[lev_sl_idx_min:lev_sl_idx_max+1,:,:,:]\n",
    "Nap_t = Napt[lev_sl_idx_min:lev_sl_idx_max+1,:,:,:]\n",
    "\n",
    "\n",
    "Feptdens = ( Fep_t * 1e-6 * 100 * lev_sl ) / (1.380503e-23 * tempe)\n",
    "Mgptdens = ( Mgp_t * 1e-6 * 100 * lev_sl ) / (1.380503e-23 * tempe)\n",
    "Naptdens = ( Nap_t * 1e-6 * 100 * lev_sl ) / (1.380503e-23 * tempe)\n",
    "            \n",
    "Mptdens = Feptdens + (2 * Mgptdens ) + Naptdens    # equivalent to [Fep] * Factor where Factor = (Fep+2Mgp+Nap)/Fep\n",
    "\n"
   ]
  },
  {
   "cell_type": "code",
   "execution_count": 10,
   "id": "66d5f586-cfb4-495c-9da5-b6390fb60c6a",
   "metadata": {},
   "outputs": [
    {
     "name": "stdout",
     "output_type": "stream",
     "text": [
      "Mptdens min = 9.222161535569176e-06\n",
      "Mptdens max = 3563445.6983512472\n"
     ]
    }
   ],
   "source": [
    "min_values = np.min(Mptdens, axis=(0, 1, 2, 3))\n",
    "max_values = np.max(Mptdens, axis=(0, 1, 2, 3))\n",
    "\n",
    "min_value = np.min(min_values)\n",
    "print(f'Mptdens min = {min_value.values}')   \n",
    "\n",
    "max_value = np.max(max_values)\n",
    "print(f'Mptdens max = {max_value.values}')  \n",
    "\n",
    "\n",
    "#All year\n",
    "#Mptdens min = 9.222161535569176e-06\n",
    "#Mptdens max = 3563445.6983512472"
   ]
  },
  {
   "cell_type": "markdown",
   "id": "8dd36163-b87d-4aca-bd9c-e45813029bc7",
   "metadata": {},
   "source": [
    "# Bin Definitions"
   ]
  },
  {
   "cell_type": "code",
   "execution_count": 8,
   "id": "c59ab2bd-5dcf-4254-a775-641379d56ada",
   "metadata": {
    "tags": []
   },
   "outputs": [
    {
     "name": "stdout",
     "output_type": "stream",
     "text": [
      "Number of Bins: 100\n"
     ]
    }
   ],
   "source": [
    "\n",
    "bin_edges = np.logspace(np.log10(5e2), np.log10(5e6), 101)\n",
    "\n",
    "bin_midpoints = (bin_edges[:-1] + bin_edges[1:]) / 2\n",
    "bin_widths = np.diff(bin_edges)\n",
    "num_bins = len(bin_midpoints)\n",
    "\n",
    "# # Print the results\n",
    "# print(\"Bin Edges (Lower and Upper):\")\n",
    "# for i in range(len(bin_edges) - 1):\n",
    "#     print(f\"Bin {i + 1}: [{bin_edges[i]}, {bin_edges[i + 1]}]\")\n",
    "\n",
    "# print(\"\\nBin Midpoints:\")\n",
    "# for i in range(len(bin_midpoints)):\n",
    "#     print(f\"Bin {i + 1} Midpoint: {bin_midpoints[i]}\")\n",
    "\n",
    "# print(\"\\nBin Widths:\", bin_widths)\n",
    "print(f\"Number of Bins: {num_bins}\")"
   ]
  },
  {
   "cell_type": "markdown",
   "id": "6080b51d-10a2-4cc1-9c1c-a314555f3332",
   "metadata": {
    "tags": []
   },
   "source": [
    "# Histogram calcs"
   ]
  },
  {
   "cell_type": "code",
   "execution_count": null,
   "id": "cbc7bbc8-09b3-4a32-8a59-b4cddcf337fe",
   "metadata": {
    "tags": []
   },
   "outputs": [],
   "source": [
    "\n",
    "seasons = [ #'Dec-Feb', \n",
    "'Mar-May', 'Jun-Aug', 'Sep-Nov' ]\n",
    "\n",
    "for season in seasons:\n",
    "    \n",
    "    testds = xr.open_dataset(f'Nc_Files/SpE_Output/Wuhu_IonTr_run_SpE_Output_{season}.nc')\n",
    "    SpEsns = testds['SpEsns']   #'lev_sl', 'time', 'lat', 'lon', 'timesl', 'mth'  (20,336,96,144,2,3)\n",
    "    flattened_SpEsns = SpEsns.values.flatten()\n",
    "\n",
    "    # Initialize an array to store histogram counts for each bin\n",
    "    histogram_counts = np.zeros(len(bin_edges) - 1)\n",
    "\n",
    "\n",
    "    for value in tqdm(flattened_SpEsns):\n",
    "        if np.isnan(value):\n",
    "            continue\n",
    "\n",
    "        # Find the bin index for the value\n",
    "        bin_index = np.digitize(value, bin_edges, right=True)\n",
    "\n",
    "        # Increment the corresponding bin in the histogram\n",
    "        histogram_counts[bin_index - 1] += 1\n",
    "        \n",
    "        \n",
    "    output_nc_file = f'./Nc_Files/e_histogram/{season}_e_histogram_data.nc'\n",
    "    with nc.Dataset(output_nc_file, 'w') as dataset:\n",
    "        # Create dimensions\n",
    "        dataset.createDimension('num_bins', num_bins)\n",
    "        dataset.createDimension('bin_edges', num_bins+1)\n",
    "\n",
    "        # Create variables\n",
    "        bin_edges_var = dataset.createVariable('bin_edges', 'f8', ('bin_edges',))\n",
    "        bin_midpoints_var = dataset.createVariable('bin_midpoints', 'f8', ('num_bins',))\n",
    "        bin_widths_var = dataset.createVariable('bin_widths', 'f8', ('num_bins',))\n",
    "        histogram_counts_var = dataset.createVariable('histogram_counts', 'i4', ('num_bins',))\n",
    "\n",
    "        # Assign values to variables\n",
    "        bin_edges_var[:] = bin_edges\n",
    "        bin_midpoints_var[:] = bin_midpoints\n",
    "        bin_widths_var[:] = bin_widths\n",
    "        histogram_counts_var[:] = histogram_counts\n",
    "\n",
    "    print(f\"Histogram data saved to {output_nc_file}\")\n"
   ]
  },
  {
   "cell_type": "markdown",
   "id": "23e80a74-ca73-4738-b06c-19732467cedb",
   "metadata": {},
   "source": [
    "# Load data and Plot"
   ]
  },
  {
   "cell_type": "code",
   "execution_count": 12,
   "id": "dc14194b-7ffe-46c2-82f1-fb7ef2e8cf6f",
   "metadata": {
    "tags": []
   },
   "outputs": [
    {
     "data": {
      "image/png": "[encoded data removed]",
      "text/plain": [
       "<Figure size 1000x800 with 4 Axes>"
      ]
     },
     "metadata": {},
     "output_type": "display_data"
    }
   ],
   "source": [
    "\n",
    "# Load data for each season\n",
    "resultds_win = xr.open_dataset(f'Nc_Files/e_histogram/Dec-Feb_e_histogram_data.nc')\n",
    "counts_win = resultds_win['histogram_counts']\n",
    "\n",
    "resultds_spr = xr.open_dataset(f'Nc_Files/e_histogram/Mar-May_e_histogram_data.nc')\n",
    "counts_spr = resultds_spr['histogram_counts']\n",
    "\n",
    "resultds_sum = xr.open_dataset(f'Nc_Files/e_histogram/Jun-Aug_e_histogram_data.nc')\n",
    "counts_sum = resultds_sum['histogram_counts']\n",
    "\n",
    "resultds_aut = xr.open_dataset(f'Nc_Files/e_histogram/Sep-Nov_e_histogram_data.nc')\n",
    "counts_aut = resultds_aut['histogram_counts']\n",
    "\n",
    "# List of seasons\n",
    "seasons = ['Dec-Feb', 'Mar-May', 'Jun-Aug', 'Sep-Nov']\n",
    "\n",
    "# Create a 2x2 subplot\n",
    "fig, axes = plt.subplots(2, 2, figsize=(10, 8))\n",
    "\n",
    "# Organize the data for easy iteration\n",
    "data_for_each_season = [counts_win, counts_spr, counts_sum, counts_aut]\n",
    "\n",
    "# Iterate over seasons and plot histogram in each subplot\n",
    "for i, (season, counts) in enumerate(zip(seasons, data_for_each_season)):\n",
    "    # Choose the appropriate subplot\n",
    "    ax = axes[i // 2, i % 2]\n",
    "\n",
    "    # Plot histogram\n",
    "    bin_edges = resultds_win['bin_edges']  # Assuming bin_edges are the same for all seasons\n",
    "    ax.bar(bin_edges[:-1], counts, width=np.diff(bin_edges), align='edge', log=True)\n",
    "\n",
    "    # Set labels and title\n",
    "    ax.set_xlabel('e\\u207B density (cm\\u207B\\u00B3)'\n",
    ")\n",
    "    ax.set_ylabel('Count')\n",
    "    ax.set_title(f'{season}')\n",
    "    ax.set_xscale('log')\n",
    "    ax.set_xlim(1e3, 3e6)\n",
    "\n",
    "# Adjust layout\n",
    "plt.tight_layout()\n",
    "\n",
    "# Show the plot\n",
    "plt.show()"
   ]
  },
  {
   "cell_type": "code",
   "execution_count": 6,
   "id": "ec51ad42-dd9f-4235-b91e-451ad72ce344",
   "metadata": {
    "tags": []
   },
   "outputs": [
    {
     "name": "stdout",
     "output_type": "stream",
     "text": [
      "Dec-Feb : Lower Bin Edge: 1.50998e+03       crit freq = 0.34895\n",
      "          Max Count Bin Edge: 1.14543e+04   crit freq = 0.96108\n",
      "          Upper Bin Edge: 1.37711e+06       crit freq = 10.53808\n",
      "\n",
      "Mar-May : Lower Bin Edge: 1.50998e+03       crit freq = 0.34895\n",
      "          Max Count Bin Edge: 9.52730e+03   crit freq = 0.87652\n",
      "          Upper Bin Edge: 2.62404e+06       crit freq = 14.54659\n",
      "\n",
      "Jun-Aug : Lower Bin Edge: 1.50998e+03       crit freq = 0.34895\n",
      "          Max Count Bin Edge: 1.14543e+04   crit freq = 0.96108\n",
      "          Upper Bin Edge: 3.79289e+06       crit freq = 17.48885\n",
      "\n",
      "Sep-Nov : Lower Bin Edge: 2.39315e+03       crit freq = 0.43930\n",
      "          Max Count Bin Edge: 9.52730e+03   crit freq = 0.87652\n",
      "          Upper Bin Edge: 2.18258e+06       crit freq = 13.26665\n",
      "\n"
     ]
    }
   ],
   "source": [
    "# Organize the data for easy iteration\n",
    "data_for_each_season = [counts_win, counts_spr, counts_sum, counts_aut]\n",
    "\n",
    "# Iterate over seasons and print the lower and upper bin edges with non-zero counts\n",
    "for season, counts in zip(seasons, data_for_each_season):\n",
    "    non_zero_indices = np.nonzero(counts.values.ravel())[0]\n",
    "    \n",
    "    if non_zero_indices.size > 0:\n",
    "        # Find the first and last non-zero indices\n",
    "        first_non_zero_index = non_zero_indices[0]\n",
    "        last_non_zero_index = non_zero_indices[-1]\n",
    "\n",
    "        # Find the bin with the maximum counts\n",
    "        max_count_index = np.argmax(counts.values)\n",
    "        max_count_bin_edge = bin_edges[max_count_index].values\n",
    "\n",
    "\n",
    "        # Print lower and upper bin edges rounded to 2 decimal places\n",
    "        lower_bin_edge = bin_edges[first_non_zero_index].values\n",
    "        upper_bin_edge = bin_edges[last_non_zero_index + 1].values  # Adding 1 to get the upper edge\n",
    "\n",
    "        lower_critfreq = (8.98 * np.sqrt(lower_bin_edge*1e6) ) * 1e-6    #MHz\n",
    "        upper_critfreq = (8.98 * np.sqrt(upper_bin_edge*1e6) ) * 1e-6\n",
    "        max_count_critfreq = (8.98 * np.sqrt(max_count_bin_edge * 1e6)) * 1e-6\n",
    "\n",
    "        \n",
    "        print(f'{season} : Lower Bin Edge: {\"{:.5e}\".format(lower_bin_edge)}       crit freq = {\"{:.5f}\".format(lower_critfreq)} MHz')\n",
    "        print(f'          Max Count Bin Edge: {\"{:.5e}\".format(max_count_bin_edge)}   crit freq = {\"{:.5f}\".format(max_count_critfreq)} MHz')\n",
    "        print(f'          Upper Bin Edge: {\"{:.5e}\".format(upper_bin_edge)}       crit freq = {\"{:.5f}\".format(upper_critfreq)} MHz')\n",
    "        print('')\n",
    "    else:\n",
    "        print(f'{season} - No non-zero counts in the histogram')"
   ]
  },
  {
   "cell_type": "code",
   "execution_count": null,
   "id": "acffc40f-f171-4e35-be5e-b73b15411b53",
   "metadata": {},
   "outputs": [],
   "source": []
  },
  {
   "cell_type": "code",
   "execution_count": null,
   "id": "a879ed99-0448-4ed1-bb01-5e3aa6f53c40",
   "metadata": {},
   "outputs": [],
   "source": []
  }
 ],
 "metadata": {
  "kernelspec": {
   "display_name": "Python 3 (ipykernel)",
   "language": "python",
   "name": "python3"
  },
  "language_info": {
   "codemirror_mode": {
    "name": "ipython",
    "version": 3
   },
   "file_extension": ".py",
   "mimetype": "text/x-python",
   "name": "python",
   "nbconvert_exporter": "python",
   "pygments_lexer": "ipython3",
   "version": "3.11.5"
  }
 },
 "nbformat": 4,
 "nbformat_minor": 5
}
