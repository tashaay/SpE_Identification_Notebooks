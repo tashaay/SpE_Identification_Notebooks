{
 "cells": [
  {
   "cell_type": "code",
   "execution_count": 2,
   "id": "1203a178-6ba3-4455-a83b-009b52cff25c",
   "metadata": {},
   "outputs": [
    {
     "name": "stderr",
     "output_type": "stream",
     "text": [
      "/tmp/ipykernel_731183/1870643686.py:17: MatplotlibDeprecationWarning: The get_cmap function was deprecated in Matplotlib 3.7 and will be removed two minor releases later. Use ``matplotlib.colormaps[name]`` or ``matplotlib.colormaps.get_cmap(obj)`` instead.\n",
      "  jet = mcm.get_cmap('jet') if isinstance(mcm.get_cmap('jet'), str) else mcm.get_cmap('jet')\n"
     ]
    }
   ],
   "source": [
    "import xarray as xr\n",
    "import numpy as np\n",
    "import cftime\n",
    "import nc_time_axis\n",
    "import pandas as pd\n",
    "import matplotlib.pyplot as plt \n",
    "from matplotlib import ticker, cm\n",
    "#from cftime import datetime \n",
    "from datetime import datetime, timedelta\n",
    "#import datetime as dt\n",
    "import matplotlib.colors as colors\n",
    "import math\n",
    "import random\n",
    "import matplotlib.cm as mcm\n",
    "from matplotlib.ticker import MaxNLocator\n",
    "#jet = mcm.get_cmap('jet')\n",
    "jet = mcm.get_cmap('jet') if isinstance(mcm.get_cmap('jet'), str) else mcm.get_cmap('jet')\n",
    "import netCDF4 as nc\n",
    "import sys\n",
    "import os\n",
    "import psutil\n",
    "import netCDF4 as nc\n",
    "import cartopy.crs as ccrs # CRS stands for \"Coordinate reference systems\" for map projection\n",
    "from cartopy.crs import PlateCarree\n",
    "import cartopy.feature as cfeature\n",
    "from cartopy.mpl.ticker import LongitudeFormatter, LatitudeFormatter\n",
    "from dateutil import tz\n",
    "import pytz\n",
    "import time\n",
    "from time import process_time\n",
    "from tqdm import tqdm\n",
    "from dask.distributed import LocalCluster, Client\n",
    "import dask.array as da\n",
    "import dask.dataframe as dd\n",
    "import dask\n",
    "from dask import delayed\n",
    "from dask.diagnostics import ProgressBar  # Import the ProgressBar class\n",
    "import calendar\n",
    "import glob\n",
    "%matplotlib inline \n",
    "#import line_profiler\n",
    "#%load_ext line_profiler"
   ]
  },
  {
   "cell_type": "code",
   "execution_count": 2,
   "id": "723dbf71-c5f0-4cda-b4ed-b0fafbe2fcd5",
   "metadata": {},
   "outputs": [],
   "source": [
    "fp1 = 'Nc_Files/ACP_CESM213_FX2000_f19_f19_mg16_Na_Fe_Mg_iontransport/ACP_CESM213_FX2000_f19_f19_mg16_Na_Fe_Mg_iontransport.cam.h2.0001-*.nc'\n",
    "ds = xr.open_mfdataset(fp1)\n",
    "#ds\n",
    "\n",
    "\n",
    "\n",
    "timee = ds.variables['time']\n",
    "\n",
    "lon = ds.variables['lon']\n",
    "lat = ds.variables['lat']\n",
    "lev = ds.variables['lev']\n",
    "dst = ds.transpose(\"lev\", ...)\n",
    "#geopH = dst.variables['Z3'] / 1000 #m-> km    #(126, 744, 96, 144)        #Mpt = dst.variables['Fep'] \n",
    "\n",
    "temp = dst.variables['T']\n",
    "\n",
    "Fept = dst.variables['Fep']\n",
    "Mgpt = dst.variables['Mgp']\n",
    "Napt = dst.variables['Nap']\n",
    "\n",
    "\n",
    "lev_sl_idx_min = 41      \n",
    "lev_sl_idx_max = 60 \n",
    "\n",
    "lev_sl = lev[lev_sl_idx_min:lev_sl_idx_max+1]\n",
    "\n",
    "tempe = temp[lev_sl_idx_min:lev_sl_idx_max+1,:,:,:]\n",
    "\n",
    "Fep_t = Fept[lev_sl_idx_min:lev_sl_idx_max+1,:,:,:]\n",
    "Mgp_t = Mgpt[lev_sl_idx_min:lev_sl_idx_max+1,:,:,:]\n",
    "Nap_t = Napt[lev_sl_idx_min:lev_sl_idx_max+1,:,:,:]\n",
    "\n",
    "\n",
    "Feptdens = ( Fep_t * 1e-6 * 100 * lev_sl ) / (1.380503e-23 * tempe)\n",
    "Mgptdens = ( Mgp_t * 1e-6 * 100 * lev_sl ) / (1.380503e-23 * tempe)\n",
    "Naptdens = ( Nap_t * 1e-6 * 100 * lev_sl ) / (1.380503e-23 * tempe)\n",
    "            \n",
    "Mptdens = Feptdens + (2 * Mgptdens ) + Naptdens    # equivalent to [Fep] * Factor where Factor = (Fep+2Mgp+Nap)/Fep\n",
    "\n"
   ]
  },
  {
   "cell_type": "code",
   "execution_count": 10,
   "id": "66d5f586-cfb4-495c-9da5-b6390fb60c6a",
   "metadata": {},
   "outputs": [
    {
     "name": "stdout",
     "output_type": "stream",
     "text": [
      "Mptdens min = 9.222161535569176e-06\n",
      "Mptdens max = 3563445.6983512472\n"
     ]
    }
   ],
   "source": [
    "min_values = np.min(Mptdens, axis=(0, 1, 2, 3))\n",
    "max_values = np.max(Mptdens, axis=(0, 1, 2, 3))\n",
    "\n",
    "min_value = np.min(min_values)\n",
    "print(f'Mptdens min = {min_value.values}')   #Mptdens min = 9.222161535569176e-06\n",
    "\n",
    "max_value = np.max(max_values)\n",
    "print(f'Mptdens max = {max_value.values}')  #Mptdens max = 3563445.6983512472\n"
   ]
  },
  {
   "cell_type": "code",
   "execution_count": null,
   "id": "e1f9df95-8677-4572-ac7b-cbe762b03798",
   "metadata": {},
   "outputs": [],
   "source": []
  },
  {
   "cell_type": "code",
   "execution_count": null,
   "id": "96ee6cb7-155e-4f8b-8bfb-31e3acc8cab2",
   "metadata": {},
   "outputs": [],
   "source": []
  },
  {
   "cell_type": "code",
   "execution_count": null,
   "id": "69cee322-31aa-4bb8-a562-418f899d3ec9",
   "metadata": {},
   "outputs": [],
   "source": []
  },
  {
   "cell_type": "code",
   "execution_count": null,
   "id": "3a9c95ec-5f01-4ebc-b97b-56f57697c7b5",
   "metadata": {},
   "outputs": [],
   "source": []
  },
  {
   "cell_type": "code",
   "execution_count": 18,
   "id": "c59ab2bd-5dcf-4254-a775-641379d56ada",
   "metadata": {
    "tags": []
   },
   "outputs": [
    {
     "name": "stdout",
     "output_type": "stream",
     "text": [
      "Number of Bins: 100\n"
     ]
    }
   ],
   "source": [
    "bin_edges = np.logspace(np.log10(5e2), np.log10(5e6), 101)\n",
    "bin_midpoints = (bin_edges[:-1] + bin_edges[1:]) / 2\n",
    "bin_widths = np.diff(bin_edges)\n",
    "num_bins = len(bin_midpoints)\n",
    "\n",
    "# # Print the results\n",
    "# print(\"Bin Edges (Lower and Upper):\")\n",
    "# for i in range(len(bin_edges) - 1):\n",
    "#     print(f\"Bin {i + 1}: [{bin_edges[i]}, {bin_edges[i + 1]}]\")\n",
    "\n",
    "# print(\"\\nBin Midpoints:\")\n",
    "# for i in range(len(bin_midpoints)):\n",
    "#     print(f\"Bin {i + 1} Midpoint: {bin_midpoints[i]}\")\n",
    "\n",
    "# print(\"\\nBin Widths:\", bin_widths)\n",
    "print(f\"Number of Bins: {num_bins}\")"
   ]
  },
  {
   "cell_type": "code",
   "execution_count": 20,
   "id": "cbc7bbc8-09b3-4a32-8a59-b4cddcf337fe",
   "metadata": {
    "tags": []
   },
   "outputs": [
    {
     "name": "stderr",
     "output_type": "stream",
     "text": [
      "100%|████████████████████████████████████████████████████████████████| 557383680/557383680 [09:05<00:00, 1021055.34it/s]\n"
     ]
    },
    {
     "name": "stdout",
     "output_type": "stream",
     "text": [
      "Histogram data saved to ./Nc_Files/{season}_e_histogram_data.nc\n"
     ]
    },
    {
     "ename": "FileNotFoundError",
     "evalue": "[Errno 2] No such file or directory: b'/localhome/sestay/jupyter_new/Nc_Files/SpE_Output/Wuhu_IonTr_run_SpE_Output_Mar-May.nc'",
     "output_type": "error",
     "traceback": [
      "\u001b[0;31m---------------------------------------------------------------------------\u001b[0m",
      "\u001b[0;31mKeyError\u001b[0m                                  Traceback (most recent call last)",
      "File \u001b[0;32m~/miniconda3/envs/mynewenv/lib/python3.11/site-packages/xarray/backends/file_manager.py:211\u001b[0m, in \u001b[0;36mCachingFileManager._acquire_with_cache_info\u001b[0;34m(self, needs_lock)\u001b[0m\n\u001b[1;32m    210\u001b[0m \u001b[38;5;28;01mtry\u001b[39;00m:\n\u001b[0;32m--> 211\u001b[0m     file \u001b[38;5;241m=\u001b[39m \u001b[38;5;28mself\u001b[39m\u001b[38;5;241m.\u001b[39m_cache[\u001b[38;5;28mself\u001b[39m\u001b[38;5;241m.\u001b[39m_key]\n\u001b[1;32m    212\u001b[0m \u001b[38;5;28;01mexcept\u001b[39;00m \u001b[38;5;167;01mKeyError\u001b[39;00m:\n",
      "File \u001b[0;32m~/miniconda3/envs/mynewenv/lib/python3.11/site-packages/xarray/backends/lru_cache.py:56\u001b[0m, in \u001b[0;36mLRUCache.__getitem__\u001b[0;34m(self, key)\u001b[0m\n\u001b[1;32m     55\u001b[0m \u001b[38;5;28;01mwith\u001b[39;00m \u001b[38;5;28mself\u001b[39m\u001b[38;5;241m.\u001b[39m_lock:\n\u001b[0;32m---> 56\u001b[0m     value \u001b[38;5;241m=\u001b[39m \u001b[38;5;28mself\u001b[39m\u001b[38;5;241m.\u001b[39m_cache[key]\n\u001b[1;32m     57\u001b[0m     \u001b[38;5;28mself\u001b[39m\u001b[38;5;241m.\u001b[39m_cache\u001b[38;5;241m.\u001b[39mmove_to_end(key)\n",
      "\u001b[0;31mKeyError\u001b[0m: [<class 'netCDF4._netCDF4.Dataset'>, ('/localhome/sestay/jupyter_new/Nc_Files/SpE_Output/Wuhu_IonTr_run_SpE_Output_Mar-May.nc',), 'r', (('clobber', True), ('diskless', False), ('format', 'NETCDF4'), ('persist', False)), '6fbd4fa7-aaed-4e58-a770-b7838b26b478']",
      "\nDuring handling of the above exception, another exception occurred:\n",
      "\u001b[0;31mFileNotFoundError\u001b[0m                         Traceback (most recent call last)",
      "Cell \u001b[0;32mIn[20], line 5\u001b[0m\n\u001b[1;32m      1\u001b[0m seasons \u001b[38;5;241m=\u001b[39m [ \u001b[38;5;124m'\u001b[39m\u001b[38;5;124mDec-Feb\u001b[39m\u001b[38;5;124m'\u001b[39m, \u001b[38;5;124m'\u001b[39m\u001b[38;5;124mMar-May\u001b[39m\u001b[38;5;124m'\u001b[39m, \u001b[38;5;124m'\u001b[39m\u001b[38;5;124mJun-Aug\u001b[39m\u001b[38;5;124m'\u001b[39m, \u001b[38;5;124m'\u001b[39m\u001b[38;5;124mSep-Nov\u001b[39m\u001b[38;5;124m'\u001b[39m ]\n\u001b[1;32m      3\u001b[0m \u001b[38;5;28;01mfor\u001b[39;00m season \u001b[38;5;129;01min\u001b[39;00m seasons:\n\u001b[0;32m----> 5\u001b[0m     testds \u001b[38;5;241m=\u001b[39m xr\u001b[38;5;241m.\u001b[39mopen_dataset(\u001b[38;5;124mf\u001b[39m\u001b[38;5;124m'\u001b[39m\u001b[38;5;124mNc_Files/SpE_Output/Wuhu_IonTr_run_SpE_Output_\u001b[39m\u001b[38;5;132;01m{\u001b[39;00mseason\u001b[38;5;132;01m}\u001b[39;00m\u001b[38;5;124m.nc\u001b[39m\u001b[38;5;124m'\u001b[39m)\n\u001b[1;32m      6\u001b[0m     SpEsns \u001b[38;5;241m=\u001b[39m testds[\u001b[38;5;124m'\u001b[39m\u001b[38;5;124mSpEsns\u001b[39m\u001b[38;5;124m'\u001b[39m]   \u001b[38;5;66;03m#'lev_sl', 'time', 'lat', 'lon', 'timesl', 'mth'  (20,336,96,144,2,3)\u001b[39;00m\n\u001b[1;32m      7\u001b[0m     flattened_SpEsns \u001b[38;5;241m=\u001b[39m SpEsns\u001b[38;5;241m.\u001b[39mvalues\u001b[38;5;241m.\u001b[39mflatten()\n",
      "File \u001b[0;32m~/miniconda3/envs/mynewenv/lib/python3.11/site-packages/xarray/backends/api.py:566\u001b[0m, in \u001b[0;36mopen_dataset\u001b[0;34m(filename_or_obj, engine, chunks, cache, decode_cf, mask_and_scale, decode_times, decode_timedelta, use_cftime, concat_characters, decode_coords, drop_variables, inline_array, chunked_array_type, from_array_kwargs, backend_kwargs, **kwargs)\u001b[0m\n\u001b[1;32m    554\u001b[0m decoders \u001b[38;5;241m=\u001b[39m _resolve_decoders_kwargs(\n\u001b[1;32m    555\u001b[0m     decode_cf,\n\u001b[1;32m    556\u001b[0m     open_backend_dataset_parameters\u001b[38;5;241m=\u001b[39mbackend\u001b[38;5;241m.\u001b[39mopen_dataset_parameters,\n\u001b[0;32m   (...)\u001b[0m\n\u001b[1;32m    562\u001b[0m     decode_coords\u001b[38;5;241m=\u001b[39mdecode_coords,\n\u001b[1;32m    563\u001b[0m )\n\u001b[1;32m    565\u001b[0m overwrite_encoded_chunks \u001b[38;5;241m=\u001b[39m kwargs\u001b[38;5;241m.\u001b[39mpop(\u001b[38;5;124m\"\u001b[39m\u001b[38;5;124moverwrite_encoded_chunks\u001b[39m\u001b[38;5;124m\"\u001b[39m, \u001b[38;5;28;01mNone\u001b[39;00m)\n\u001b[0;32m--> 566\u001b[0m backend_ds \u001b[38;5;241m=\u001b[39m backend\u001b[38;5;241m.\u001b[39mopen_dataset(\n\u001b[1;32m    567\u001b[0m     filename_or_obj,\n\u001b[1;32m    568\u001b[0m     drop_variables\u001b[38;5;241m=\u001b[39mdrop_variables,\n\u001b[1;32m    569\u001b[0m     \u001b[38;5;241m*\u001b[39m\u001b[38;5;241m*\u001b[39mdecoders,\n\u001b[1;32m    570\u001b[0m     \u001b[38;5;241m*\u001b[39m\u001b[38;5;241m*\u001b[39mkwargs,\n\u001b[1;32m    571\u001b[0m )\n\u001b[1;32m    572\u001b[0m ds \u001b[38;5;241m=\u001b[39m _dataset_from_backend_dataset(\n\u001b[1;32m    573\u001b[0m     backend_ds,\n\u001b[1;32m    574\u001b[0m     filename_or_obj,\n\u001b[0;32m   (...)\u001b[0m\n\u001b[1;32m    584\u001b[0m     \u001b[38;5;241m*\u001b[39m\u001b[38;5;241m*\u001b[39mkwargs,\n\u001b[1;32m    585\u001b[0m )\n\u001b[1;32m    586\u001b[0m \u001b[38;5;28;01mreturn\u001b[39;00m ds\n",
      "File \u001b[0;32m~/miniconda3/envs/mynewenv/lib/python3.11/site-packages/xarray/backends/netCDF4_.py:590\u001b[0m, in \u001b[0;36mNetCDF4BackendEntrypoint.open_dataset\u001b[0;34m(self, filename_or_obj, mask_and_scale, decode_times, concat_characters, decode_coords, drop_variables, use_cftime, decode_timedelta, group, mode, format, clobber, diskless, persist, lock, autoclose)\u001b[0m\n\u001b[1;32m    569\u001b[0m \u001b[38;5;28;01mdef\u001b[39;00m \u001b[38;5;21mopen_dataset\u001b[39m(  \u001b[38;5;66;03m# type: ignore[override]  # allow LSP violation, not supporting **kwargs\u001b[39;00m\n\u001b[1;32m    570\u001b[0m     \u001b[38;5;28mself\u001b[39m,\n\u001b[1;32m    571\u001b[0m     filename_or_obj: \u001b[38;5;28mstr\u001b[39m \u001b[38;5;241m|\u001b[39m os\u001b[38;5;241m.\u001b[39mPathLike[Any] \u001b[38;5;241m|\u001b[39m BufferedIOBase \u001b[38;5;241m|\u001b[39m AbstractDataStore,\n\u001b[0;32m   (...)\u001b[0m\n\u001b[1;32m    587\u001b[0m     autoclose\u001b[38;5;241m=\u001b[39m\u001b[38;5;28;01mFalse\u001b[39;00m,\n\u001b[1;32m    588\u001b[0m ) \u001b[38;5;241m-\u001b[39m\u001b[38;5;241m>\u001b[39m Dataset:\n\u001b[1;32m    589\u001b[0m     filename_or_obj \u001b[38;5;241m=\u001b[39m _normalize_path(filename_or_obj)\n\u001b[0;32m--> 590\u001b[0m     store \u001b[38;5;241m=\u001b[39m NetCDF4DataStore\u001b[38;5;241m.\u001b[39mopen(\n\u001b[1;32m    591\u001b[0m         filename_or_obj,\n\u001b[1;32m    592\u001b[0m         mode\u001b[38;5;241m=\u001b[39mmode,\n\u001b[1;32m    593\u001b[0m         \u001b[38;5;28mformat\u001b[39m\u001b[38;5;241m=\u001b[39m\u001b[38;5;28mformat\u001b[39m,\n\u001b[1;32m    594\u001b[0m         group\u001b[38;5;241m=\u001b[39mgroup,\n\u001b[1;32m    595\u001b[0m         clobber\u001b[38;5;241m=\u001b[39mclobber,\n\u001b[1;32m    596\u001b[0m         diskless\u001b[38;5;241m=\u001b[39mdiskless,\n\u001b[1;32m    597\u001b[0m         persist\u001b[38;5;241m=\u001b[39mpersist,\n\u001b[1;32m    598\u001b[0m         lock\u001b[38;5;241m=\u001b[39mlock,\n\u001b[1;32m    599\u001b[0m         autoclose\u001b[38;5;241m=\u001b[39mautoclose,\n\u001b[1;32m    600\u001b[0m     )\n\u001b[1;32m    602\u001b[0m     store_entrypoint \u001b[38;5;241m=\u001b[39m StoreBackendEntrypoint()\n\u001b[1;32m    603\u001b[0m     \u001b[38;5;28;01mwith\u001b[39;00m close_on_error(store):\n",
      "File \u001b[0;32m~/miniconda3/envs/mynewenv/lib/python3.11/site-packages/xarray/backends/netCDF4_.py:391\u001b[0m, in \u001b[0;36mNetCDF4DataStore.open\u001b[0;34m(cls, filename, mode, format, group, clobber, diskless, persist, lock, lock_maker, autoclose)\u001b[0m\n\u001b[1;32m    385\u001b[0m kwargs \u001b[38;5;241m=\u001b[39m \u001b[38;5;28mdict\u001b[39m(\n\u001b[1;32m    386\u001b[0m     clobber\u001b[38;5;241m=\u001b[39mclobber, diskless\u001b[38;5;241m=\u001b[39mdiskless, persist\u001b[38;5;241m=\u001b[39mpersist, \u001b[38;5;28mformat\u001b[39m\u001b[38;5;241m=\u001b[39m\u001b[38;5;28mformat\u001b[39m\n\u001b[1;32m    387\u001b[0m )\n\u001b[1;32m    388\u001b[0m manager \u001b[38;5;241m=\u001b[39m CachingFileManager(\n\u001b[1;32m    389\u001b[0m     netCDF4\u001b[38;5;241m.\u001b[39mDataset, filename, mode\u001b[38;5;241m=\u001b[39mmode, kwargs\u001b[38;5;241m=\u001b[39mkwargs\n\u001b[1;32m    390\u001b[0m )\n\u001b[0;32m--> 391\u001b[0m \u001b[38;5;28;01mreturn\u001b[39;00m \u001b[38;5;28mcls\u001b[39m(manager, group\u001b[38;5;241m=\u001b[39mgroup, mode\u001b[38;5;241m=\u001b[39mmode, lock\u001b[38;5;241m=\u001b[39mlock, autoclose\u001b[38;5;241m=\u001b[39mautoclose)\n",
      "File \u001b[0;32m~/miniconda3/envs/mynewenv/lib/python3.11/site-packages/xarray/backends/netCDF4_.py:338\u001b[0m, in \u001b[0;36mNetCDF4DataStore.__init__\u001b[0;34m(self, manager, group, mode, lock, autoclose)\u001b[0m\n\u001b[1;32m    336\u001b[0m \u001b[38;5;28mself\u001b[39m\u001b[38;5;241m.\u001b[39m_group \u001b[38;5;241m=\u001b[39m group\n\u001b[1;32m    337\u001b[0m \u001b[38;5;28mself\u001b[39m\u001b[38;5;241m.\u001b[39m_mode \u001b[38;5;241m=\u001b[39m mode\n\u001b[0;32m--> 338\u001b[0m \u001b[38;5;28mself\u001b[39m\u001b[38;5;241m.\u001b[39mformat \u001b[38;5;241m=\u001b[39m \u001b[38;5;28mself\u001b[39m\u001b[38;5;241m.\u001b[39mds\u001b[38;5;241m.\u001b[39mdata_model\n\u001b[1;32m    339\u001b[0m \u001b[38;5;28mself\u001b[39m\u001b[38;5;241m.\u001b[39m_filename \u001b[38;5;241m=\u001b[39m \u001b[38;5;28mself\u001b[39m\u001b[38;5;241m.\u001b[39mds\u001b[38;5;241m.\u001b[39mfilepath()\n\u001b[1;32m    340\u001b[0m \u001b[38;5;28mself\u001b[39m\u001b[38;5;241m.\u001b[39mis_remote \u001b[38;5;241m=\u001b[39m is_remote_uri(\u001b[38;5;28mself\u001b[39m\u001b[38;5;241m.\u001b[39m_filename)\n",
      "File \u001b[0;32m~/miniconda3/envs/mynewenv/lib/python3.11/site-packages/xarray/backends/netCDF4_.py:400\u001b[0m, in \u001b[0;36mNetCDF4DataStore.ds\u001b[0;34m(self)\u001b[0m\n\u001b[1;32m    398\u001b[0m \u001b[38;5;129m@property\u001b[39m\n\u001b[1;32m    399\u001b[0m \u001b[38;5;28;01mdef\u001b[39;00m \u001b[38;5;21mds\u001b[39m(\u001b[38;5;28mself\u001b[39m):\n\u001b[0;32m--> 400\u001b[0m     \u001b[38;5;28;01mreturn\u001b[39;00m \u001b[38;5;28mself\u001b[39m\u001b[38;5;241m.\u001b[39m_acquire()\n",
      "File \u001b[0;32m~/miniconda3/envs/mynewenv/lib/python3.11/site-packages/xarray/backends/netCDF4_.py:394\u001b[0m, in \u001b[0;36mNetCDF4DataStore._acquire\u001b[0;34m(self, needs_lock)\u001b[0m\n\u001b[1;32m    393\u001b[0m \u001b[38;5;28;01mdef\u001b[39;00m \u001b[38;5;21m_acquire\u001b[39m(\u001b[38;5;28mself\u001b[39m, needs_lock\u001b[38;5;241m=\u001b[39m\u001b[38;5;28;01mTrue\u001b[39;00m):\n\u001b[0;32m--> 394\u001b[0m     \u001b[38;5;28;01mwith\u001b[39;00m \u001b[38;5;28mself\u001b[39m\u001b[38;5;241m.\u001b[39m_manager\u001b[38;5;241m.\u001b[39macquire_context(needs_lock) \u001b[38;5;28;01mas\u001b[39;00m root:\n\u001b[1;32m    395\u001b[0m         ds \u001b[38;5;241m=\u001b[39m _nc4_require_group(root, \u001b[38;5;28mself\u001b[39m\u001b[38;5;241m.\u001b[39m_group, \u001b[38;5;28mself\u001b[39m\u001b[38;5;241m.\u001b[39m_mode)\n\u001b[1;32m    396\u001b[0m     \u001b[38;5;28;01mreturn\u001b[39;00m ds\n",
      "File \u001b[0;32m~/miniconda3/envs/mynewenv/lib/python3.11/contextlib.py:137\u001b[0m, in \u001b[0;36m_GeneratorContextManager.__enter__\u001b[0;34m(self)\u001b[0m\n\u001b[1;32m    135\u001b[0m \u001b[38;5;28;01mdel\u001b[39;00m \u001b[38;5;28mself\u001b[39m\u001b[38;5;241m.\u001b[39margs, \u001b[38;5;28mself\u001b[39m\u001b[38;5;241m.\u001b[39mkwds, \u001b[38;5;28mself\u001b[39m\u001b[38;5;241m.\u001b[39mfunc\n\u001b[1;32m    136\u001b[0m \u001b[38;5;28;01mtry\u001b[39;00m:\n\u001b[0;32m--> 137\u001b[0m     \u001b[38;5;28;01mreturn\u001b[39;00m \u001b[38;5;28mnext\u001b[39m(\u001b[38;5;28mself\u001b[39m\u001b[38;5;241m.\u001b[39mgen)\n\u001b[1;32m    138\u001b[0m \u001b[38;5;28;01mexcept\u001b[39;00m \u001b[38;5;167;01mStopIteration\u001b[39;00m:\n\u001b[1;32m    139\u001b[0m     \u001b[38;5;28;01mraise\u001b[39;00m \u001b[38;5;167;01mRuntimeError\u001b[39;00m(\u001b[38;5;124m\"\u001b[39m\u001b[38;5;124mgenerator didn\u001b[39m\u001b[38;5;124m'\u001b[39m\u001b[38;5;124mt yield\u001b[39m\u001b[38;5;124m\"\u001b[39m) \u001b[38;5;28;01mfrom\u001b[39;00m \u001b[38;5;28;01mNone\u001b[39;00m\n",
      "File \u001b[0;32m~/miniconda3/envs/mynewenv/lib/python3.11/site-packages/xarray/backends/file_manager.py:199\u001b[0m, in \u001b[0;36mCachingFileManager.acquire_context\u001b[0;34m(self, needs_lock)\u001b[0m\n\u001b[1;32m    196\u001b[0m \u001b[38;5;129m@contextlib\u001b[39m\u001b[38;5;241m.\u001b[39mcontextmanager\n\u001b[1;32m    197\u001b[0m \u001b[38;5;28;01mdef\u001b[39;00m \u001b[38;5;21macquire_context\u001b[39m(\u001b[38;5;28mself\u001b[39m, needs_lock\u001b[38;5;241m=\u001b[39m\u001b[38;5;28;01mTrue\u001b[39;00m):\n\u001b[1;32m    198\u001b[0m \u001b[38;5;250m    \u001b[39m\u001b[38;5;124;03m\"\"\"Context manager for acquiring a file.\"\"\"\u001b[39;00m\n\u001b[0;32m--> 199\u001b[0m     file, cached \u001b[38;5;241m=\u001b[39m \u001b[38;5;28mself\u001b[39m\u001b[38;5;241m.\u001b[39m_acquire_with_cache_info(needs_lock)\n\u001b[1;32m    200\u001b[0m     \u001b[38;5;28;01mtry\u001b[39;00m:\n\u001b[1;32m    201\u001b[0m         \u001b[38;5;28;01myield\u001b[39;00m file\n",
      "File \u001b[0;32m~/miniconda3/envs/mynewenv/lib/python3.11/site-packages/xarray/backends/file_manager.py:217\u001b[0m, in \u001b[0;36mCachingFileManager._acquire_with_cache_info\u001b[0;34m(self, needs_lock)\u001b[0m\n\u001b[1;32m    215\u001b[0m     kwargs \u001b[38;5;241m=\u001b[39m kwargs\u001b[38;5;241m.\u001b[39mcopy()\n\u001b[1;32m    216\u001b[0m     kwargs[\u001b[38;5;124m\"\u001b[39m\u001b[38;5;124mmode\u001b[39m\u001b[38;5;124m\"\u001b[39m] \u001b[38;5;241m=\u001b[39m \u001b[38;5;28mself\u001b[39m\u001b[38;5;241m.\u001b[39m_mode\n\u001b[0;32m--> 217\u001b[0m file \u001b[38;5;241m=\u001b[39m \u001b[38;5;28mself\u001b[39m\u001b[38;5;241m.\u001b[39m_opener(\u001b[38;5;241m*\u001b[39m\u001b[38;5;28mself\u001b[39m\u001b[38;5;241m.\u001b[39m_args, \u001b[38;5;241m*\u001b[39m\u001b[38;5;241m*\u001b[39mkwargs)\n\u001b[1;32m    218\u001b[0m \u001b[38;5;28;01mif\u001b[39;00m \u001b[38;5;28mself\u001b[39m\u001b[38;5;241m.\u001b[39m_mode \u001b[38;5;241m==\u001b[39m \u001b[38;5;124m\"\u001b[39m\u001b[38;5;124mw\u001b[39m\u001b[38;5;124m\"\u001b[39m:\n\u001b[1;32m    219\u001b[0m     \u001b[38;5;66;03m# ensure file doesn't get overridden when opened again\u001b[39;00m\n\u001b[1;32m    220\u001b[0m     \u001b[38;5;28mself\u001b[39m\u001b[38;5;241m.\u001b[39m_mode \u001b[38;5;241m=\u001b[39m \u001b[38;5;124m\"\u001b[39m\u001b[38;5;124ma\u001b[39m\u001b[38;5;124m\"\u001b[39m\n",
      "File \u001b[0;32msrc/netCDF4/_netCDF4.pyx:2463\u001b[0m, in \u001b[0;36mnetCDF4._netCDF4.Dataset.__init__\u001b[0;34m()\u001b[0m\n",
      "File \u001b[0;32msrc/netCDF4/_netCDF4.pyx:2026\u001b[0m, in \u001b[0;36mnetCDF4._netCDF4._ensure_nc_success\u001b[0;34m()\u001b[0m\n",
      "\u001b[0;31mFileNotFoundError\u001b[0m: [Errno 2] No such file or directory: b'/localhome/sestay/jupyter_new/Nc_Files/SpE_Output/Wuhu_IonTr_run_SpE_Output_Mar-May.nc'"
     ]
    }
   ],
   "source": [
    "\n",
    "seasons = [ 'Dec-Feb', 'Mar-May', 'Jun-Aug', 'Sep-Nov' ]\n",
    "\n",
    "for season in seasons:\n",
    "    \n",
    "    testds = xr.open_dataset(f'Nc_Files/SpE_Output/Wuhu_IonTr_run_SpE_Output_{season}.nc')\n",
    "    SpEsns = testds['SpEsns']   #'lev_sl', 'time', 'lat', 'lon', 'timesl', 'mth'  (20,336,96,144,2,3)\n",
    "    flattened_SpEsns = SpEsns.values.flatten()\n",
    "\n",
    "    # Initialize an array to store histogram counts for each bin\n",
    "    histogram_counts = np.zeros(len(bin_edges) - 1)\n",
    "\n",
    "\n",
    "    for value in tqdm(flattened_SpEsns):\n",
    "        if np.isnan(value):\n",
    "            continue\n",
    "\n",
    "        # Find the bin index for the value\n",
    "        bin_index = np.digitize(value, bin_edges, right=True)\n",
    "\n",
    "        # Increment the corresponding bin in the histogram\n",
    "        histogram_counts[bin_index - 1] += 1\n",
    "        \n",
    "        \n",
    "    output_nc_file = f'./Nc_Files/e_histogram/{season}_e_histogram_data.nc'\n",
    "    with nc.Dataset(output_nc_file, 'w') as dataset:\n",
    "        # Create dimensions\n",
    "        dataset.createDimension('num_bins', num_bins)\n",
    "        dataset.createDimension('bin_edges', num_bins+1)\n",
    "\n",
    "        # Create variables\n",
    "        bin_edges_var = dataset.createVariable('bin_edges', 'f8', ('bin_edges',))\n",
    "        bin_midpoints_var = dataset.createVariable('bin_midpoints', 'f8', ('num_bins',))\n",
    "        bin_widths_var = dataset.createVariable('bin_widths', 'f8', ('num_bins',))\n",
    "        histogram_counts_var = dataset.createVariable('histogram_counts', 'i4', ('num_bins',))\n",
    "\n",
    "        # Assign values to variables\n",
    "        bin_edges_var[:] = bin_edges\n",
    "        bin_midpoints_var[:] = bin_midpoints\n",
    "        bin_widths_var[:] = bin_widths\n",
    "        histogram_counts_var[:] = histogram_counts\n",
    "\n",
    "    print(f\"Histogram data saved to {output_nc_file}\")\n"
   ]
  },
  {
   "cell_type": "code",
   "execution_count": 22,
   "id": "fa25d796-e226-4ae0-b3d5-866bc64a99c3",
   "metadata": {
    "tags": []
   },
   "outputs": [],
   "source": [
    "season = 'Dec-Feb'\n",
    "resultds = xr.open_dataset(f'Nc_Files/e_histogram/{season}_e_histogram_data.nc')\n",
    "histogram_counts = resultds['histogram_counts']"
   ]
  },
  {
   "cell_type": "code",
   "execution_count": 24,
   "id": "440aec10-cba3-4daf-9765-e9ba81349e19",
   "metadata": {
    "tags": []
   },
   "outputs": [
    {
     "data": {
      "image/png": "[encoded data removed]",
      "text/plain": [
       "<Figure size 640x480 with 1 Axes>"
      ]
     },
     "metadata": {},
     "output_type": "display_data"
    }
   ],
   "source": [
    "\n",
    "\n",
    "plt.bar(bin_edges[:-1], histogram_counts, width=np.diff(bin_edges), align='edge', log=True)\n",
    "\n",
    "# Set labels and title\n",
    "plt.xlabel('Value')\n",
    "plt.ylabel('Count (log scale)')\n",
    "plt.title(f'{season} SpEsns Values')\n",
    "plt.xscale('log')\n",
    "plt.xlim(1e3,3e6)\n",
    "# Show the plot\n",
    "plt.show()"
   ]
  },
  {
   "cell_type": "code",
   "execution_count": 27,
   "id": "c75eeaed-57ba-4211-8720-7f4a8dd5c6ac",
   "metadata": {
    "tags": []
   },
   "outputs": [
    {
     "name": "stdout",
     "output_type": "stream",
     "text": [
      "Bin Edge: 5.00e+02, Count: 0\n",
      "Bin Edge: 5.48e+02, Count: 0\n",
      "Bin Edge: 6.01e+02, Count: 0\n",
      "Bin Edge: 6.59e+02, Count: 0\n",
      "Bin Edge: 7.23e+02, Count: 0\n",
      "Bin Edge: 7.92e+02, Count: 0\n",
      "Bin Edge: 8.69e+02, Count: 0\n",
      "Bin Edge: 9.53e+02, Count: 0\n",
      "Bin Edge: 1.04e+03, Count: 0\n",
      "Bin Edge: 1.15e+03, Count: 0\n",
      "Bin Edge: 1.26e+03, Count: 0\n",
      "Bin Edge: 1.38e+03, Count: 0\n",
      "Bin Edge: 1.51e+03, Count: 0\n",
      "Bin Edge: 1.66e+03, Count: 0\n",
      "Bin Edge: 1.82e+03, Count: 0\n",
      "Bin Edge: 1.99e+03, Count: 0\n",
      "Bin Edge: 2.18e+03, Count: 0\n",
      "Bin Edge: 2.39e+03, Count: 356\n",
      "Bin Edge: 2.62e+03, Count: 5170\n",
      "Bin Edge: 2.88e+03, Count: 12268\n",
      "Bin Edge: 3.15e+03, Count: 26287\n",
      "Bin Edge: 3.46e+03, Count: 181665\n",
      "Bin Edge: 3.79e+03, Count: 279085\n",
      "Bin Edge: 4.16e+03, Count: 347401\n",
      "Bin Edge: 4.56e+03, Count: 430893\n",
      "Bin Edge: 5.00e+03, Count: 479323\n",
      "Bin Edge: 5.48e+03, Count: 529406\n",
      "Bin Edge: 6.01e+03, Count: 587130\n",
      "Bin Edge: 6.59e+03, Count: 652384\n",
      "Bin Edge: 7.23e+03, Count: 710504\n",
      "Bin Edge: 7.92e+03, Count: 779262\n",
      "Bin Edge: 8.69e+03, Count: 835234\n",
      "Bin Edge: 9.53e+03, Count: 897929\n",
      "Bin Edge: 1.04e+04, Count: 962357\n",
      "Bin Edge: 1.15e+04, Count: 1003951\n",
      "Bin Edge: 1.26e+04, Count: 1062058\n",
      "Bin Edge: 1.38e+04, Count: 1105361\n",
      "Bin Edge: 1.51e+04, Count: 1099262\n",
      "Bin Edge: 1.66e+04, Count: 1079900\n",
      "Bin Edge: 1.82e+04, Count: 1052981\n",
      "Bin Edge: 1.99e+04, Count: 1010907\n",
      "Bin Edge: 2.18e+04, Count: 949178\n",
      "Bin Edge: 2.39e+04, Count: 878382\n",
      "Bin Edge: 2.62e+04, Count: 794229\n",
      "Bin Edge: 2.88e+04, Count: 708077\n",
      "Bin Edge: 3.15e+04, Count: 627548\n",
      "Bin Edge: 3.46e+04, Count: 552286\n",
      "Bin Edge: 3.79e+04, Count: 486986\n",
      "Bin Edge: 4.16e+04, Count: 426777\n",
      "Bin Edge: 4.56e+04, Count: 371527\n",
      "Bin Edge: 5.00e+04, Count: 321718\n",
      "Bin Edge: 5.48e+04, Count: 276363\n",
      "Bin Edge: 6.01e+04, Count: 235550\n",
      "Bin Edge: 6.59e+04, Count: 199070\n",
      "Bin Edge: 7.23e+04, Count: 170557\n",
      "Bin Edge: 7.92e+04, Count: 141737\n",
      "Bin Edge: 8.69e+04, Count: 118588\n",
      "Bin Edge: 9.53e+04, Count: 99078\n",
      "Bin Edge: 1.04e+05, Count: 81970\n",
      "Bin Edge: 1.15e+05, Count: 66896\n",
      "Bin Edge: 1.26e+05, Count: 53885\n",
      "Bin Edge: 1.38e+05, Count: 43746\n",
      "Bin Edge: 1.51e+05, Count: 36049\n",
      "Bin Edge: 1.66e+05, Count: 29205\n",
      "Bin Edge: 1.82e+05, Count: 24226\n",
      "Bin Edge: 1.99e+05, Count: 19738\n",
      "Bin Edge: 2.18e+05, Count: 15476\n",
      "Bin Edge: 2.39e+05, Count: 12115\n",
      "Bin Edge: 2.62e+05, Count: 9590\n",
      "Bin Edge: 2.88e+05, Count: 7146\n",
      "Bin Edge: 3.15e+05, Count: 4993\n",
      "Bin Edge: 3.46e+05, Count: 3663\n",
      "Bin Edge: 3.79e+05, Count: 2688\n",
      "Bin Edge: 4.16e+05, Count: 1840\n",
      "Bin Edge: 4.56e+05, Count: 1351\n",
      "Bin Edge: 5.00e+05, Count: 1009\n",
      "Bin Edge: 5.48e+05, Count: 693\n",
      "Bin Edge: 6.01e+05, Count: 484\n",
      "Bin Edge: 6.59e+05, Count: 313\n",
      "Bin Edge: 7.23e+05, Count: 174\n",
      "Bin Edge: 7.92e+05, Count: 98\n",
      "Bin Edge: 8.69e+05, Count: 66\n",
      "Bin Edge: 9.53e+05, Count: 38\n",
      "Bin Edge: 1.04e+06, Count: 27\n",
      "Bin Edge: 1.15e+06, Count: 20\n",
      "Bin Edge: 1.26e+06, Count: 3\n",
      "Bin Edge: 1.38e+06, Count: 0\n",
      "Bin Edge: 1.51e+06, Count: 0\n",
      "Bin Edge: 1.66e+06, Count: 0\n",
      "Bin Edge: 1.82e+06, Count: 0\n",
      "Bin Edge: 1.99e+06, Count: 0\n",
      "Bin Edge: 2.18e+06, Count: 0\n",
      "Bin Edge: 2.39e+06, Count: 0\n",
      "Bin Edge: 2.62e+06, Count: 0\n",
      "Bin Edge: 2.88e+06, Count: 0\n",
      "Bin Edge: 3.15e+06, Count: 0\n",
      "Bin Edge: 3.46e+06, Count: 0\n",
      "Bin Edge: 3.79e+06, Count: 0\n",
      "Bin Edge: 4.16e+06, Count: 0\n",
      "Bin Edge: 4.56e+06, Count: 0\n"
     ]
    }
   ],
   "source": [
    "for edge, count in zip(bin_edges[:-1], histogram_counts.values):\n",
    "    print(f'Bin Edge: {edge:.2e}, Count: {count}')\n"
   ]
  },
  {
   "cell_type": "code",
   "execution_count": null,
   "id": "c54b5201-d4e5-424c-829a-4f1089228d35",
   "metadata": {},
   "outputs": [],
   "source": [
    "# Winter lower limit = 2.39e+03\n",
    "\n",
    "# Bin Edge: 1.99e+03, Count: 0\n",
    "# Bin Edge: 2.18e+03, Count: 0\n",
    "# Bin Edge: 2.39e+03, Count: 356\n",
    "# Bin Edge: 2.62e+03, Count: 5170\n",
    "# Bin Edge: 2.88e+03, Count: 12268\n",
    "# Bin Edge: 3.15e+03, Count: 26287\n",
    "# Bin Edge: 3.46e+03, Count: 181665"
   ]
  },
  {
   "cell_type": "code",
   "execution_count": null,
   "id": "9fc58270-7617-4e21-a951-04340ae5d7db",
   "metadata": {},
   "outputs": [],
   "source": []
  },
  {
   "cell_type": "code",
   "execution_count": null,
   "id": "a574b289-1430-4200-b835-ef88c347fa48",
   "metadata": {},
   "outputs": [],
   "source": []
  }
 ],
 "metadata": {
  "kernelspec": {
   "display_name": "Python 3 (ipykernel)",
   "language": "python",
   "name": "python3"
  },
  "language_info": {
   "codemirror_mode": {
    "name": "ipython",
    "version": 3
   },
   "file_extension": ".py",
   "mimetype": "text/x-python",
   "name": "python",
   "nbconvert_exporter": "python",
   "pygments_lexer": "ipython3",
   "version": "3.11.5"
  }
 },
 "nbformat": 4,
 "nbformat_minor": 5
}
