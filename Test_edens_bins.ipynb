{
 "cells": [
  {
   "cell_type": "code",
   "execution_count": 6,
   "id": "1203a178-6ba3-4455-a83b-009b52cff25c",
   "metadata": {},
   "outputs": [
    {
     "name": "stderr",
     "output_type": "stream",
     "text": [
      "/tmp/ipykernel_822641/1870643686.py:17: MatplotlibDeprecationWarning: The get_cmap function was deprecated in Matplotlib 3.7 and will be removed two minor releases later. Use ``matplotlib.colormaps[name]`` or ``matplotlib.colormaps.get_cmap(obj)`` instead.\n",
      "  jet = mcm.get_cmap('jet') if isinstance(mcm.get_cmap('jet'), str) else mcm.get_cmap('jet')\n"
     ]
    }
   ],
   "source": [
    "import xarray as xr\n",
    "import numpy as np\n",
    "import cftime\n",
    "import nc_time_axis\n",
    "import pandas as pd\n",
    "import matplotlib.pyplot as plt \n",
    "from matplotlib import ticker, cm\n",
    "#from cftime import datetime \n",
    "from datetime import datetime, timedelta\n",
    "#import datetime as dt\n",
    "import matplotlib.colors as colors\n",
    "import math\n",
    "import random\n",
    "import matplotlib.cm as mcm\n",
    "from matplotlib.ticker import MaxNLocator\n",
    "#jet = mcm.get_cmap('jet')\n",
    "jet = mcm.get_cmap('jet') if isinstance(mcm.get_cmap('jet'), str) else mcm.get_cmap('jet')\n",
    "import netCDF4 as nc\n",
    "import sys\n",
    "import os\n",
    "import psutil\n",
    "import netCDF4 as nc\n",
    "import cartopy.crs as ccrs # CRS stands for \"Coordinate reference systems\" for map projection\n",
    "from cartopy.crs import PlateCarree\n",
    "import cartopy.feature as cfeature\n",
    "from cartopy.mpl.ticker import LongitudeFormatter, LatitudeFormatter\n",
    "from dateutil import tz\n",
    "import pytz\n",
    "import time\n",
    "from time import process_time\n",
    "from tqdm import tqdm\n",
    "from dask.distributed import LocalCluster, Client\n",
    "import dask.array as da\n",
    "import dask.dataframe as dd\n",
    "import dask\n",
    "from dask import delayed\n",
    "from dask.diagnostics import ProgressBar  # Import the ProgressBar class\n",
    "import calendar\n",
    "import glob\n",
    "%matplotlib inline \n",
    "#import line_profiler\n",
    "#%load_ext line_profiler"
   ]
  },
  {
   "cell_type": "markdown",
   "id": "8e6c3e60-326d-4e28-a279-2a95919e5dc0",
   "metadata": {
    "jp-MarkdownHeadingCollapsed": true,
    "tags": []
   },
   "source": [
    "# Mptdens Min & Max Values"
   ]
  },
  {
   "cell_type": "code",
   "execution_count": 2,
   "id": "723dbf71-c5f0-4cda-b4ed-b0fafbe2fcd5",
   "metadata": {},
   "outputs": [],
   "source": [
    "fp1 = 'Nc_Files/ACP_CESM213_FX2000_f19_f19_mg16_Na_Fe_Mg_iontransport/ACP_CESM213_FX2000_f19_f19_mg16_Na_Fe_Mg_iontransport.cam.h2.0001-*.nc'\n",
    "ds = xr.open_mfdataset(fp1)\n",
    "#ds\n",
    "\n",
    "\n",
    "\n",
    "timee = ds.variables['time']\n",
    "\n",
    "lon = ds.variables['lon']\n",
    "lat = ds.variables['lat']\n",
    "lev = ds.variables['lev']\n",
    "dst = ds.transpose(\"lev\", ...)\n",
    "#geopH = dst.variables['Z3'] / 1000 #m-> km    #(126, 744, 96, 144)        #Mpt = dst.variables['Fep'] \n",
    "\n",
    "temp = dst.variables['T']\n",
    "\n",
    "Fept = dst.variables['Fep']\n",
    "Mgpt = dst.variables['Mgp']\n",
    "Napt = dst.variables['Nap']\n",
    "\n",
    "\n",
    "lev_sl_idx_min = 41      \n",
    "lev_sl_idx_max = 60 \n",
    "\n",
    "lev_sl = lev[lev_sl_idx_min:lev_sl_idx_max+1]\n",
    "\n",
    "tempe = temp[lev_sl_idx_min:lev_sl_idx_max+1,:,:,:]\n",
    "\n",
    "Fep_t = Fept[lev_sl_idx_min:lev_sl_idx_max+1,:,:,:]\n",
    "Mgp_t = Mgpt[lev_sl_idx_min:lev_sl_idx_max+1,:,:,:]\n",
    "Nap_t = Napt[lev_sl_idx_min:lev_sl_idx_max+1,:,:,:]\n",
    "\n",
    "\n",
    "Feptdens = ( Fep_t * 1e-6 * 100 * lev_sl ) / (1.380503e-23 * tempe)\n",
    "Mgptdens = ( Mgp_t * 1e-6 * 100 * lev_sl ) / (1.380503e-23 * tempe)\n",
    "Naptdens = ( Nap_t * 1e-6 * 100 * lev_sl ) / (1.380503e-23 * tempe)\n",
    "            \n",
    "Mptdens = Feptdens + (2 * Mgptdens ) + Naptdens    # equivalent to [Fep] * Factor where Factor = (Fep+2Mgp+Nap)/Fep\n",
    "\n"
   ]
  },
  {
   "cell_type": "code",
   "execution_count": 10,
   "id": "66d5f586-cfb4-495c-9da5-b6390fb60c6a",
   "metadata": {},
   "outputs": [
    {
     "name": "stdout",
     "output_type": "stream",
     "text": [
      "Mptdens min = 9.222161535569176e-06\n",
      "Mptdens max = 3563445.6983512472\n"
     ]
    }
   ],
   "source": [
    "min_values = np.min(Mptdens, axis=(0, 1, 2, 3))\n",
    "max_values = np.max(Mptdens, axis=(0, 1, 2, 3))\n",
    "\n",
    "min_value = np.min(min_values)\n",
    "print(f'Mptdens min = {min_value.values}')   #Mptdens min = 9.222161535569176e-06\n",
    "\n",
    "max_value = np.max(max_values)\n",
    "print(f'Mptdens max = {max_value.values}')  #Mptdens max = 3563445.6983512472\n"
   ]
  },
  {
   "cell_type": "markdown",
   "id": "8dd36163-b87d-4aca-bd9c-e45813029bc7",
   "metadata": {},
   "source": [
    "# Histogram"
   ]
  },
  {
   "cell_type": "code",
   "execution_count": 7,
   "id": "c59ab2bd-5dcf-4254-a775-641379d56ada",
   "metadata": {
    "tags": []
   },
   "outputs": [
    {
     "name": "stdout",
     "output_type": "stream",
     "text": [
      "Number of Bins: 100\n"
     ]
    }
   ],
   "source": [
    "bin_edges = np.logspace(np.log10(5e2), np.log10(5e6), 101)\n",
    "bin_midpoints = (bin_edges[:-1] + bin_edges[1:]) / 2\n",
    "bin_widths = np.diff(bin_edges)\n",
    "num_bins = len(bin_midpoints)\n",
    "\n",
    "# # Print the results\n",
    "# print(\"Bin Edges (Lower and Upper):\")\n",
    "# for i in range(len(bin_edges) - 1):\n",
    "#     print(f\"Bin {i + 1}: [{bin_edges[i]}, {bin_edges[i + 1]}]\")\n",
    "\n",
    "# print(\"\\nBin Midpoints:\")\n",
    "# for i in range(len(bin_midpoints)):\n",
    "#     print(f\"Bin {i + 1} Midpoint: {bin_midpoints[i]}\")\n",
    "\n",
    "# print(\"\\nBin Widths:\", bin_widths)\n",
    "print(f\"Number of Bins: {num_bins}\")"
   ]
  },
  {
   "cell_type": "code",
   "execution_count": 8,
   "id": "cbc7bbc8-09b3-4a32-8a59-b4cddcf337fe",
   "metadata": {
    "tags": []
   },
   "outputs": [
    {
     "name": "stderr",
     "output_type": "stream",
     "text": [
      "100%|███████████████████████████████████████████████████████████████████████████████████████████████████████████| 557383680/557383680 [09:32<00:00, 973365.36it/s]\n"
     ]
    },
    {
     "name": "stdout",
     "output_type": "stream",
     "text": [
      "Histogram data saved to ./Nc_Files/e_histogram/Dec-Feb_e_histogram_data.nc\n"
     ]
    }
   ],
   "source": [
    "\n",
    "seasons = [ 'Dec-Feb']#, 'Mar-May', 'Jun-Aug', 'Sep-Nov' ]\n",
    "\n",
    "for season in seasons:\n",
    "    \n",
    "    testds = xr.open_dataset(f'Nc_Files/SpE_Output/Wuhu_IonTr_run_SpE_Output_{season}.nc')\n",
    "    SpEsns = testds['SpEsns']   #'lev_sl', 'time', 'lat', 'lon', 'timesl', 'mth'  (20,336,96,144,2,3)\n",
    "    flattened_SpEsns = SpEsns.values.flatten()\n",
    "\n",
    "    # Initialize an array to store histogram counts for each bin\n",
    "    histogram_counts = np.zeros(len(bin_edges) - 1)\n",
    "\n",
    "\n",
    "    for value in tqdm(flattened_SpEsns):\n",
    "        if np.isnan(value):\n",
    "            continue\n",
    "\n",
    "        # Find the bin index for the value\n",
    "        bin_index = np.digitize(value, bin_edges, right=True)\n",
    "\n",
    "        # Increment the corresponding bin in the histogram\n",
    "        histogram_counts[bin_index - 1] += 1\n",
    "        \n",
    "        \n",
    "    output_nc_file = f'./Nc_Files/e_histogram/{season}_e_histogram_data.nc'\n",
    "    with nc.Dataset(output_nc_file, 'w') as dataset:\n",
    "        # Create dimensions\n",
    "        dataset.createDimension('num_bins', num_bins)\n",
    "        dataset.createDimension('bin_edges', num_bins+1)\n",
    "\n",
    "        # Create variables\n",
    "        bin_edges_var = dataset.createVariable('bin_edges', 'f8', ('bin_edges',))\n",
    "        bin_midpoints_var = dataset.createVariable('bin_midpoints', 'f8', ('num_bins',))\n",
    "        bin_widths_var = dataset.createVariable('bin_widths', 'f8', ('num_bins',))\n",
    "        histogram_counts_var = dataset.createVariable('histogram_counts', 'i4', ('num_bins',))\n",
    "\n",
    "        # Assign values to variables\n",
    "        bin_edges_var[:] = bin_edges\n",
    "        bin_midpoints_var[:] = bin_midpoints\n",
    "        bin_widths_var[:] = bin_widths\n",
    "        histogram_counts_var[:] = histogram_counts\n",
    "\n",
    "    print(f\"Histogram data saved to {output_nc_file}\")\n"
   ]
  },
  {
   "cell_type": "code",
   "execution_count": 9,
   "id": "fa25d796-e226-4ae0-b3d5-866bc64a99c3",
   "metadata": {
    "tags": []
   },
   "outputs": [],
   "source": [
    "season = 'Dec-Feb'\n",
    "resultds = xr.open_dataset(f'Nc_Files/e_histogram/{season}_e_histogram_data.nc')\n",
    "histogram_counts = resultds['histogram_counts']"
   ]
  },
  {
   "cell_type": "code",
   "execution_count": 10,
   "id": "440aec10-cba3-4daf-9765-e9ba81349e19",
   "metadata": {
    "tags": []
   },
   "outputs": [
    {
     "data": {
      "image/png": "[encoded data removed]",
      "text/plain": [
       "<Figure size 640x480 with 1 Axes>"
      ]
     },
     "metadata": {},
     "output_type": "display_data"
    }
   ],
   "source": [
    "\n",
    "\n",
    "plt.bar(bin_edges[:-1], histogram_counts, width=np.diff(bin_edges), align='edge', log=True)\n",
    "\n",
    "# Set labels and title\n",
    "plt.xlabel('Value')\n",
    "plt.ylabel('Count (log scale)')\n",
    "plt.title(f'{season} SpEsns Values')\n",
    "plt.xscale('log')\n",
    "plt.xlim(1e3,3e6)\n",
    "# Show the plot\n",
    "plt.show()"
   ]
  },
  {
   "cell_type": "code",
   "execution_count": 11,
   "id": "c75eeaed-57ba-4211-8720-7f4a8dd5c6ac",
   "metadata": {
    "tags": []
   },
   "outputs": [
    {
     "name": "stdout",
     "output_type": "stream",
     "text": [
      "Bin Edge: 5.00e+02, Count: 0\n",
      "Bin Edge: 5.48e+02, Count: 0\n",
      "Bin Edge: 6.01e+02, Count: 0\n",
      "Bin Edge: 6.59e+02, Count: 0\n",
      "Bin Edge: 7.23e+02, Count: 0\n",
      "Bin Edge: 7.92e+02, Count: 0\n",
      "Bin Edge: 8.69e+02, Count: 0\n",
      "Bin Edge: 9.53e+02, Count: 0\n",
      "Bin Edge: 1.04e+03, Count: 0\n",
      "Bin Edge: 1.15e+03, Count: 0\n",
      "Bin Edge: 1.26e+03, Count: 0\n",
      "Bin Edge: 1.38e+03, Count: 0\n",
      "Bin Edge: 1.51e+03, Count: 1214\n",
      "Bin Edge: 1.66e+03, Count: 2730\n",
      "Bin Edge: 1.82e+03, Count: 6415\n",
      "Bin Edge: 1.99e+03, Count: 19553\n",
      "Bin Edge: 2.18e+03, Count: 29190\n",
      "Bin Edge: 2.39e+03, Count: 98517\n",
      "Bin Edge: 2.62e+03, Count: 190885\n",
      "Bin Edge: 2.88e+03, Count: 268715\n",
      "Bin Edge: 3.15e+03, Count: 331750\n",
      "Bin Edge: 3.46e+03, Count: 401239\n",
      "Bin Edge: 3.79e+03, Count: 473976\n",
      "Bin Edge: 4.16e+03, Count: 535991\n",
      "Bin Edge: 4.56e+03, Count: 598481\n",
      "Bin Edge: 5.00e+03, Count: 661387\n",
      "Bin Edge: 5.48e+03, Count: 711274\n",
      "Bin Edge: 6.01e+03, Count: 778039\n",
      "Bin Edge: 6.59e+03, Count: 857039\n",
      "Bin Edge: 7.23e+03, Count: 984365\n",
      "Bin Edge: 7.92e+03, Count: 1080168\n",
      "Bin Edge: 8.69e+03, Count: 1149768\n",
      "Bin Edge: 9.53e+03, Count: 1209385\n",
      "Bin Edge: 1.04e+04, Count: 1251790\n",
      "Bin Edge: 1.15e+04, Count: 1261485\n",
      "Bin Edge: 1.26e+04, Count: 1230524\n",
      "Bin Edge: 1.38e+04, Count: 1177273\n",
      "Bin Edge: 1.51e+04, Count: 1097189\n",
      "Bin Edge: 1.66e+04, Count: 1003428\n",
      "Bin Edge: 1.82e+04, Count: 903225\n",
      "Bin Edge: 1.99e+04, Count: 800534\n",
      "Bin Edge: 2.18e+04, Count: 706452\n",
      "Bin Edge: 2.39e+04, Count: 619798\n",
      "Bin Edge: 2.62e+04, Count: 541050\n",
      "Bin Edge: 2.88e+04, Count: 472317\n",
      "Bin Edge: 3.15e+04, Count: 408138\n",
      "Bin Edge: 3.46e+04, Count: 351345\n",
      "Bin Edge: 3.79e+04, Count: 301384\n",
      "Bin Edge: 4.16e+04, Count: 257411\n",
      "Bin Edge: 4.56e+04, Count: 216977\n",
      "Bin Edge: 5.00e+04, Count: 185073\n",
      "Bin Edge: 5.48e+04, Count: 156386\n",
      "Bin Edge: 6.01e+04, Count: 131160\n",
      "Bin Edge: 6.59e+04, Count: 110345\n",
      "Bin Edge: 7.23e+04, Count: 92774\n",
      "Bin Edge: 7.92e+04, Count: 77188\n",
      "Bin Edge: 8.69e+04, Count: 62947\n",
      "Bin Edge: 9.53e+04, Count: 52048\n",
      "Bin Edge: 1.04e+05, Count: 43062\n",
      "Bin Edge: 1.15e+05, Count: 35433\n",
      "Bin Edge: 1.26e+05, Count: 28188\n",
      "Bin Edge: 1.38e+05, Count: 22376\n",
      "Bin Edge: 1.51e+05, Count: 17641\n",
      "Bin Edge: 1.66e+05, Count: 14187\n",
      "Bin Edge: 1.82e+05, Count: 10988\n",
      "Bin Edge: 1.99e+05, Count: 8124\n",
      "Bin Edge: 2.18e+05, Count: 6353\n",
      "Bin Edge: 2.39e+05, Count: 4683\n",
      "Bin Edge: 2.62e+05, Count: 3403\n",
      "Bin Edge: 2.88e+05, Count: 2448\n",
      "Bin Edge: 3.15e+05, Count: 1859\n",
      "Bin Edge: 3.46e+05, Count: 1353\n",
      "Bin Edge: 3.79e+05, Count: 1023\n",
      "Bin Edge: 4.16e+05, Count: 729\n",
      "Bin Edge: 4.56e+05, Count: 512\n",
      "Bin Edge: 5.00e+05, Count: 329\n",
      "Bin Edge: 5.48e+05, Count: 234\n",
      "Bin Edge: 6.01e+05, Count: 166\n",
      "Bin Edge: 6.59e+05, Count: 90\n",
      "Bin Edge: 7.23e+05, Count: 49\n",
      "Bin Edge: 7.92e+05, Count: 35\n",
      "Bin Edge: 8.69e+05, Count: 20\n",
      "Bin Edge: 9.53e+05, Count: 13\n",
      "Bin Edge: 1.04e+06, Count: 11\n",
      "Bin Edge: 1.15e+06, Count: 9\n",
      "Bin Edge: 1.26e+06, Count: 2\n",
      "Bin Edge: 1.38e+06, Count: 0\n",
      "Bin Edge: 1.51e+06, Count: 0\n",
      "Bin Edge: 1.66e+06, Count: 0\n",
      "Bin Edge: 1.82e+06, Count: 0\n",
      "Bin Edge: 1.99e+06, Count: 0\n",
      "Bin Edge: 2.18e+06, Count: 0\n",
      "Bin Edge: 2.39e+06, Count: 0\n",
      "Bin Edge: 2.62e+06, Count: 0\n",
      "Bin Edge: 2.88e+06, Count: 0\n",
      "Bin Edge: 3.15e+06, Count: 0\n",
      "Bin Edge: 3.46e+06, Count: 0\n",
      "Bin Edge: 3.79e+06, Count: 0\n",
      "Bin Edge: 4.16e+06, Count: 0\n",
      "Bin Edge: 4.56e+06, Count: 0\n"
     ]
    }
   ],
   "source": [
    "for edge, count in zip(bin_edges[:-1], histogram_counts.values):\n",
    "    print(f'Bin Edge: {edge:.2e}, Count: {count}')\n"
   ]
  },
  {
   "cell_type": "code",
   "execution_count": null,
   "id": "c54b5201-d4e5-424c-829a-4f1089228d35",
   "metadata": {},
   "outputs": [],
   "source": [
    "#Winter\n",
    "\n",
    "# Bin Edge: 1.26e+03, Count: 0\n",
    "# Bin Edge: 1.38e+03, Count: 0\n",
    "# Bin Edge: 1.51e+03, Count: 1214\n",
    "# Bin Edge: 1.66e+03, Count: 2730\n",
    "# Bin Edge: 1.82e+03, Count: 6415\n",
    "# Bin Edge: 1.99e+03, Count: 19553\n",
    "#.........\n",
    "# Bin Edge: 1.04e+06, Count: 11\n",
    "# Bin Edge: 1.15e+06, Count: 9\n",
    "# Bin Edge: 1.26e+06, Count: 2\n",
    "# Bin Edge: 1.38e+06, Count: 0\n",
    "# Bin Edge: 1.51e+06, Count: 0\n",
    "\n",
    "# Min\n",
    "critfreq = (8.98 * np.sqrt(1.51e+03*1e6) ) * 1e-6\n",
    "critfreq #0.34895129172994904\n",
    "\n",
    "# Max\n",
    "critfreq = (8.98 * np.sqrt(1.26e+06*1e6) ) * 1e-6\n",
    "critfreq #10.080024999968998\n",
    "\n",
    "# At peak\n",
    "\n",
    "critfreq = (8.98 * np.sqrt(1.15e+04*1e6) ) * 1e-6\n",
    "critfreq #0.9629977154697721\n"
   ]
  },
  {
   "cell_type": "code",
   "execution_count": null,
   "id": "a879ed99-0448-4ed1-bb01-5e3aa6f53c40",
   "metadata": {},
   "outputs": [],
   "source": []
  }
 ],
 "metadata": {
  "kernelspec": {
   "display_name": "Python 3 (ipykernel)",
   "language": "python",
   "name": "python3"
  },
  "language_info": {
   "codemirror_mode": {
    "name": "ipython",
    "version": 3
   },
   "file_extension": ".py",
   "mimetype": "text/x-python",
   "name": "python",
   "nbconvert_exporter": "python",
   "pygments_lexer": "ipython3",
   "version": "3.11.5"
  }
 },
 "nbformat": 4,
 "nbformat_minor": 5
}
